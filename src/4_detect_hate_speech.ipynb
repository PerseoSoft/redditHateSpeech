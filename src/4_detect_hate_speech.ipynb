{
 "cells": [
  {
   "cell_type": "markdown",
   "id": "a3f14982-fcf3-4240-858c-a2184d401c7f",
   "metadata": {},
   "source": [
    "En este notebook, entrenamos modelos de predicción de discursos de odio en base a distintos datasets, para poder predecir su uso en reddit.\n",
    "\n",
    "Para poder ejecutar este notebook se requiere contar con los conjuntos de datos [HatEval](#Dataset-HatEval-(SemEval-2019-Task5)), [DETOXIS](#Dataset-DETOXIS-(IberLEF-2021)) y [MeOffendMex](#Dataset-MeOffendMex-(Iberlef-2021)) (la información para descargarlos se encuentra en cada uno de los respectivos links). Los datasets descargados deben estar situados respectivamente en las carpetas\n",
    "\n",
    "    docs/hateval2019/\n",
    "\n",
    "    docs/detoxis_data/\n",
    "\n",
    "    docs/MeOffendEs/"
   ]
  },
  {
   "cell_type": "code",
   "execution_count": 1,
   "id": "b8e5b457-391c-441c-b9f9-1e62e91cdfba",
   "metadata": {},
   "outputs": [],
   "source": [
    "import pickle\n",
    "\n",
    "import pandas as pd\n",
    "import numpy as np\n",
    "import matplotlib.pyplot as plt\n",
    "import spacy\n",
    "\n",
    "from sklearn.feature_extraction.text import CountVectorizer\n",
    "from sklearn.linear_model import LogisticRegression\n",
    "from sklearn.ensemble import RandomForestClassifier\n",
    "from sklearn.naive_bayes import ComplementNB\n",
    "from sklearn.metrics import plot_confusion_matrix, classification_report\n",
    "from sklearn.model_selection import train_test_split\n",
    "\n",
    "from prettytable import PrettyTable\n",
    "\n",
    "from preprocessing_utils import give_emoji_free_text, url_free_text, \\\n",
    "email_free_text, quotes_free_text, get_lemmas, tokenize, preprocess_corpus\n",
    "\n",
    "nlp = spacy.load(\"es_core_news_lg\")\n",
    "np.random.seed(42)\n",
    "palabras_odio = pd.DataFrame(columns=['hateval_rf', 'hateval_nb', \n",
    "                                      'detoxis_rf', 'detoxis_nb', \n",
    "                                      'meoffendmex_rf', 'meoffendmex_nb'])"
   ]
  },
  {
   "cell_type": "markdown",
   "id": "fa6582ff-18ed-4d5d-b909-5155027f3e6d",
   "metadata": {},
   "source": [
    "## Dataset HatEval (SemEval 2019 Task5)\n",
    "\n",
    "- Paper: \n",
    "    - SemEval-2019 Task 5: Multilingual Detection of Hate Speech Against Immigrants and Women in Twitter, por Basile, Valerio; Bosco, Cristina; Fersini, Elisabetta; Nozza, Debora; Patti, Viviana; Rangel Pardo, Francisco Manuel; Rosso, Paolo; Sanguinetti, Manuela. Proceedings of the 13th International Workshop on Semantic Evaluation. Association for Computational Linguistics, 2019. [URL](https://aclanthology.org/S19-2007/).\n",
    "- Web: https://competitions.codalab.org/competitions/19935\n",
    "- Formulario para acceder a los datos: http://hatespeech.di.unito.it/hateval.html\n",
    "\n",
    "### Descripción\n",
    "\n",
    "Este dataset consiste en ~7000 Tweets, que posiblemente representen discurso de odio hacia mujeres o inmigrantes.\n",
    "\n",
    "El dataset está formado por 5 columnas, representando cada una:\n",
    "\n",
    "1. ID del Tweet.\n",
    "1. El texto del Tweet.\n",
    "1. HS (*hate speech*): si el discurso de odio ocurre contra mujeres o inmigrantes.\n",
    "1. TR (*target*): si HS=1, recibe un valor de 0 si el discurso de odio es contra un grupo genérico, o un valor de 1 si es específicamente contra un individuo.\n",
    "1. AG (*aggresive*): si HS=1, indica si quien escribe el Tweet exhibe comportamiento agresivo (si es así: 1; en caso contrario: 0).\n",
    "\n",
    "([fuente](https://competitions.codalab.org/competitions/19935#participate))\n"
   ]
  },
  {
   "cell_type": "code",
   "execution_count": 2,
   "id": "c58596f0-a891-42c7-8d09-3da7759cf14d",
   "metadata": {},
   "outputs": [],
   "source": [
    "verbose = 1\n",
    "verbose_dataset = 0\n",
    "verbose_hate_words = 0"
   ]
  },
  {
   "cell_type": "code",
   "execution_count": 3,
   "id": "24f6c64d-04c3-4a2f-83ca-bc39c64c78ad",
   "metadata": {},
   "outputs": [],
   "source": [
    "# cargamos el dataset y vemos su información\n",
    "\n",
    "hate_eval = pd.read_csv('docs/hateval2019/hateval2019_es_train.csv')\n",
    "if verbose_dataset:\n",
    "    print(hate_eval.describe())"
   ]
  },
  {
   "cell_type": "code",
   "execution_count": 4,
   "id": "3211ad91-25bb-49ae-82d4-5d6856900dff",
   "metadata": {},
   "outputs": [],
   "source": [
    "if verbose_dataset:\n",
    "    print(hate_eval[hate_eval['HS']==1])"
   ]
  },
  {
   "cell_type": "code",
   "execution_count": 5,
   "id": "156aaf9e-0c7d-47c3-a8d0-2dfb3b484e1e",
   "metadata": {},
   "outputs": [
    {
     "name": "stdout",
     "output_type": "stream",
     "text": [
      "Cantidad de Tweets sin HS: 2643 \n",
      "Cantidad de Tweets con HS: 1857\n"
     ]
    }
   ],
   "source": [
    "print('Cantidad de Tweets sin HS: {} \\nCantidad de Tweets con HS: {}'.format(\n",
    "    len(hate_eval[hate_eval['HS']==0]), len(hate_eval[hate_eval['HS']==1])))"
   ]
  },
  {
   "cell_type": "markdown",
   "id": "d196b294-d370-47ae-b06c-0240ba811ad0",
   "metadata": {},
   "source": [
    "## Dataset DETOXIS (IberLEF 2021)\n",
    "\n",
    "- Web: https://detoxisiberlef.wixsite.com/website/corpus\n",
    "- Formulario para acceder a los datos: https://forms.office.com/r/6csEeBW0w3\n",
    "\n",
    "### Descripción\n",
    "\n",
    "Este es un dataset con cerca de 3500 comentarios de sitios de noticias/foros españoles, que posiblemente contienen toxicidad. El punto distintivo de este dataset es que distingue distintos niveles de toxicidad, desde 0 (no tóxico) hasta 3 (muy tóxico), en donde también están anotados aspectos como el uso de insultos, sarcasmo, agresividad, estereotipación, constructividad, entre otros. En el contexto de este trabajo, se entrenó un modelo en donde se intenta predecir si un comentario es o no agresivo.\n"
   ]
  },
  {
   "cell_type": "code",
   "execution_count": 6,
   "id": "1f6e0ec0-df14-4eeb-b4f6-7ddece7245de",
   "metadata": {},
   "outputs": [],
   "source": [
    "# cargamos detoxis dataset\n",
    "\n",
    "detoxis = pd.read_csv('docs/detoxis_data/train.csv')\n",
    "if verbose_dataset:\n",
    "    print(detoxis.describe())"
   ]
  },
  {
   "cell_type": "code",
   "execution_count": 56,
   "id": "897f7335-837a-4580-9f20-9d3709d5b35a",
   "metadata": {},
   "outputs": [],
   "source": [
    "if verbose_dataset:\n",
    "    print(detoxis[detoxis['aggressiveness']==1])"
   ]
  },
  {
   "cell_type": "markdown",
   "id": "b51aa790-f349-4f90-a00d-448d7690b612",
   "metadata": {},
   "source": [
    "## Dataset MeOffendES (Iberlef 2021)\n",
    "\n",
    "- Papers:\n",
    "    \n",
    "    * OffendES: A New Corpus in Spanish for Offensive Language Research, por Plaza-del-Arco, Flor Miriam; Montejo Ráez, Arturo; Ureña-López, L. Alfonso y Martín Valdivia, María Teresa. Proceedings of the International Conference on Recent Advances in Natural Language Processing (RANLP 2021). INCOMA Ltd., 2021. [URL](https://aclanthology.org/2021.ranlp-main.123).\n",
    "    * Overview of MeOffendEs at IberLEF 2021: Offensive Language Detection in Spanish Variants, por Plaza-del-Arco, Flor Miriam; Casavantes, Marco; Escalante, Hugo Jair; Martín Valdivia, María Teresa; Montejo Ráez, Arturo; Montes y Gómez, Manuel; Jarquín-Vásquez, Horacio y Villaseñor Pineda, Luis. Procesamiento del Lenguaje Natural, Revista nº 67, septiembre de 2021, Sociedad Española para el Procesamiento del Lenguaje Natural. [URL](https://rua.ua.es/dspace/handle/10045/117506).\n",
    "\n",
    "- Web: https://competitions.codalab.org/competitions/28679\n",
    "- Repositorio: https://github.com/pendrag/MeOffendEs\n",
    "\n",
    "\n",
    "### Descripción\n",
    "\n",
    "Este dataset consiste tweets de usuarios tanto de España (MeOffendES) como de México (MeOffendMex, este último con alrededor de 5000 tweets), que posiblemente contienen mensajes ofensivos. En este trabajo, se optó por usar la variante MeOffendMex, ya que se consideró a los mensajes de la misma como los más cercanos al trabajo aquí abordado.\n",
    "\n",
    "El dataset está formado por  columnas, representando cada una datos como el texto del comentario, y datos de la cuenta de Twitter como por ejemplo si la cuenta se encuentra verificada, el nombre de la cuenta y si la misma tiene una imagen por defecto, entre otros. En este trabajo se optó por usar solamente el texto del tweet. Se cuenta con dos salidas, una indica si el tweet es ofensivo, y la otra si representa \"lenguaje vulgar\"; se optó por utilizar solamente la primera.\n"
   ]
  },
  {
   "cell_type": "code",
   "execution_count": 8,
   "id": "e9d084dc-a26c-458b-88a6-36e4e47e351e",
   "metadata": {},
   "outputs": [],
   "source": [
    "# cargamos MeOffendMex dataset\n",
    "\n",
    "meoffendmex = pd.read_csv('docs/MeOffendEs/mx-train-data-non-contextual.csv')\n",
    "y_meoffendmex = pd.read_csv('docs/MeOffendEs/mx-train-outputs.sol', header=None) \n",
    "\n",
    "if verbose_dataset:\n",
    "    print(meoffendmex.describe())"
   ]
  },
  {
   "cell_type": "code",
   "execution_count": 9,
   "id": "bd9529b8-705e-4e63-957c-5b7f2ddd52c6",
   "metadata": {},
   "outputs": [],
   "source": [
    "if verbose_dataset:\n",
    "    print(meoffendmex.head())"
   ]
  },
  {
   "cell_type": "markdown",
   "id": "684f558c-a6b1-4762-a8c6-7137833e49dc",
   "metadata": {},
   "source": [
    "# Procesamos y entrenamos cada uno de los datasets"
   ]
  },
  {
   "cell_type": "markdown",
   "id": "15a387d4-d6f9-4496-997f-f8714ed74864",
   "metadata": {},
   "source": [
    "Definimos la función general de entrenamiento, que lee un conjunto de datos, lo vectoriza y entrena un modelo a partir de dicha vectorización, mostrando las métricas generales del mismo."
   ]
  },
  {
   "cell_type": "code",
   "execution_count": 10,
   "id": "bbab1b5b-3d69-4867-9e03-b9817cbcd74d",
   "metadata": {},
   "outputs": [],
   "source": [
    "def process_training_pipeline(dataset, vectorizer, labels, model):\n",
    "    vectorized_corpus = vectorizer.fit_transform(dataset)\n",
    "    X_tr, X_val, y_tr, y_val = train_test_split(vectorized_corpus, labels, test_size=0.3, random_state=42)\n",
    "    model.fit(X_tr, y_tr)\n",
    "\n",
    "    print('\\nMétricas (train)')\n",
    "    print(classification_report(model.predict(X_tr), y_tr))\n",
    "    print('Matriz de confusión (train)')\n",
    "    plot_confusion_matrix(model, X_tr, y_tr,\n",
    "                          cmap=plt.cm.Blues, \n",
    "                          normalize='true')\n",
    "    plt.show()\n",
    "    print('\\nMétricas (val)')\n",
    "    print(classification_report(model.predict(X_val), y_val))\n",
    "    print('Matriz de confusión (val)')\n",
    "    plot_confusion_matrix(model, X_val, y_val,\n",
    "                          cmap=plt.cm.Blues, \n",
    "                          normalize='true')\n",
    "    plt.show()\n",
    "    "
   ]
  },
  {
   "cell_type": "markdown",
   "id": "1895f6f5-c7ff-4860-9aa6-ce6f68023d7c",
   "metadata": {},
   "source": [
    "### Hateval dataset"
   ]
  },
  {
   "cell_type": "code",
   "execution_count": 11,
   "id": "8a71af1e-ae2c-4b0d-8317-77b34276c004",
   "metadata": {},
   "outputs": [],
   "source": [
    "hateval_corpus_lines = preprocess_corpus(hate_eval['text'])"
   ]
  },
  {
   "cell_type": "code",
   "execution_count": 12,
   "id": "bf150cad-9345-4a3a-bc10-1217437a1f56",
   "metadata": {},
   "outputs": [],
   "source": [
    "y_hateval = hate_eval['HS'].values"
   ]
  },
  {
   "cell_type": "code",
   "execution_count": 13,
   "id": "ed393ed8-66a4-43e1-877e-aebae25b6b79",
   "metadata": {},
   "outputs": [],
   "source": [
    "cv_hateval = CountVectorizer(ngram_range=(1, 3), min_df=10)\n",
    "lg_hateval = LogisticRegression(random_state=42)\n",
    "nb_hateval = ComplementNB()\n",
    "rf_hateval = RandomForestClassifier(random_state=42)"
   ]
  },
  {
   "cell_type": "code",
   "execution_count": 14,
   "id": "5079f4c2-ea38-45e4-b273-c230cf98533e",
   "metadata": {},
   "outputs": [
    {
     "name": "stdout",
     "output_type": "stream",
     "text": [
      "\n",
      "Métricas (train)\n",
      "              precision    recall  f1-score   support\n",
      "\n",
      "           0       0.95      0.93      0.94      1898\n",
      "           1       0.89      0.92      0.91      1252\n",
      "\n",
      "    accuracy                           0.93      3150\n",
      "   macro avg       0.92      0.93      0.92      3150\n",
      "weighted avg       0.93      0.93      0.93      3150\n",
      "\n",
      "Matriz de confusión (train)\n"
     ]
    },
    {
     "name": "stderr",
     "output_type": "stream",
     "text": [
      "/home/juan/anaconda3/lib/python3.8/site-packages/sklearn/utils/deprecation.py:87: FutureWarning: Function plot_confusion_matrix is deprecated; Function `plot_confusion_matrix` is deprecated in 1.0 and will be removed in 1.2. Use one of the class methods: ConfusionMatrixDisplay.from_predictions or ConfusionMatrixDisplay.from_estimator.\n",
      "  warnings.warn(msg, category=FutureWarning)\n"
     ]
    },
    {
     "data": {
      "image/png": "[encoded data removed]",
      "text/plain": [
       "<Figure size 432x288 with 2 Axes>"
      ]
     },
     "metadata": {
      "needs_background": "light"
     },
     "output_type": "display_data"
    },
    {
     "name": "stdout",
     "output_type": "stream",
     "text": [
      "\n",
      "Métricas (val)\n",
      "              precision    recall  f1-score   support\n",
      "\n",
      "           0       0.85      0.83      0.84       812\n",
      "           1       0.75      0.78      0.76       538\n",
      "\n",
      "    accuracy                           0.81      1350\n",
      "   macro avg       0.80      0.80      0.80      1350\n",
      "weighted avg       0.81      0.81      0.81      1350\n",
      "\n",
      "Matriz de confusión (val)\n"
     ]
    },
    {
     "name": "stderr",
     "output_type": "stream",
     "text": [
      "/home/juan/anaconda3/lib/python3.8/site-packages/sklearn/utils/deprecation.py:87: FutureWarning: Function plot_confusion_matrix is deprecated; Function `plot_confusion_matrix` is deprecated in 1.0 and will be removed in 1.2. Use one of the class methods: ConfusionMatrixDisplay.from_predictions or ConfusionMatrixDisplay.from_estimator.\n",
      "  warnings.warn(msg, category=FutureWarning)\n"
     ]
    },
    {
     "data": {
      "image/png": "[encoded data removed]",
      "text/plain": [
       "<Figure size 432x288 with 2 Axes>"
      ]
     },
     "metadata": {
      "needs_background": "light"
     },
     "output_type": "display_data"
    }
   ],
   "source": [
    "process_training_pipeline(hateval_corpus_lines, \n",
    "                          cv_hateval,\n",
    "                          y_hateval,\n",
    "                          lg_hateval\n",
    "                         )"
   ]
  },
  {
   "cell_type": "code",
   "execution_count": 15,
   "id": "b5a2e105-5c68-4ceb-b5fa-a7641a482183",
   "metadata": {},
   "outputs": [
    {
     "name": "stdout",
     "output_type": "stream",
     "text": [
      "\n",
      "Métricas (train)\n",
      "              precision    recall  f1-score   support\n",
      "\n",
      "           0       1.00      1.00      1.00      1851\n",
      "           1       1.00      1.00      1.00      1299\n",
      "\n",
      "    accuracy                           1.00      3150\n",
      "   macro avg       1.00      1.00      1.00      3150\n",
      "weighted avg       1.00      1.00      1.00      3150\n",
      "\n",
      "Matriz de confusión (train)\n"
     ]
    },
    {
     "name": "stderr",
     "output_type": "stream",
     "text": [
      "/home/juan/anaconda3/lib/python3.8/site-packages/sklearn/utils/deprecation.py:87: FutureWarning: Function plot_confusion_matrix is deprecated; Function `plot_confusion_matrix` is deprecated in 1.0 and will be removed in 1.2. Use one of the class methods: ConfusionMatrixDisplay.from_predictions or ConfusionMatrixDisplay.from_estimator.\n",
      "  warnings.warn(msg, category=FutureWarning)\n"
     ]
    },
    {
     "data": {
      "image/png": "[encoded data removed]",
      "text/plain": [
       "<Figure size 432x288 with 2 Axes>"
      ]
     },
     "metadata": {
      "needs_background": "light"
     },
     "output_type": "display_data"
    },
    {
     "name": "stderr",
     "output_type": "stream",
     "text": [
      "/home/juan/anaconda3/lib/python3.8/site-packages/sklearn/utils/deprecation.py:87: FutureWarning: Function plot_confusion_matrix is deprecated; Function `plot_confusion_matrix` is deprecated in 1.0 and will be removed in 1.2. Use one of the class methods: ConfusionMatrixDisplay.from_predictions or ConfusionMatrixDisplay.from_estimator.\n",
      "  warnings.warn(msg, category=FutureWarning)\n"
     ]
    },
    {
     "name": "stdout",
     "output_type": "stream",
     "text": [
      "\n",
      "Métricas (val)\n",
      "              precision    recall  f1-score   support\n",
      "\n",
      "           0       0.86      0.81      0.84       844\n",
      "           1       0.71      0.79      0.75       506\n",
      "\n",
      "    accuracy                           0.80      1350\n",
      "   macro avg       0.79      0.80      0.79      1350\n",
      "weighted avg       0.81      0.80      0.80      1350\n",
      "\n",
      "Matriz de confusión (val)\n"
     ]
    },
    {
     "data": {
      "image/png": "[encoded data removed]",
      "text/plain": [
       "<Figure size 432x288 with 2 Axes>"
      ]
     },
     "metadata": {
      "needs_background": "light"
     },
     "output_type": "display_data"
    }
   ],
   "source": [
    "process_training_pipeline(hateval_corpus_lines, \n",
    "                          cv_hateval,\n",
    "                          y_hateval,\n",
    "                          rf_hateval\n",
    "                         )"
   ]
  },
  {
   "cell_type": "code",
   "execution_count": 16,
   "id": "3323a0cd-41be-43e7-9745-344791e5d2b3",
   "metadata": {},
   "outputs": [],
   "source": [
    "if verbose_dataset:\n",
    "    print(cv_hateval.get_feature_names()[:5])"
   ]
  },
  {
   "cell_type": "code",
   "execution_count": 17,
   "id": "477ff016-872d-4d89-b971-94a41a57cbbf",
   "metadata": {},
   "outputs": [
    {
     "name": "stderr",
     "output_type": "stream",
     "text": [
      "/home/juan/anaconda3/lib/python3.8/site-packages/sklearn/utils/deprecation.py:87: FutureWarning: Function get_feature_names is deprecated; get_feature_names is deprecated in 1.0 and will be removed in 1.2. Please use get_feature_names_out instead.\n",
      "  warnings.warn(msg, category=FutureWarning)\n"
     ]
    }
   ],
   "source": [
    "# obtenemos las características que más aportan a la clasificación del modelo random forest\n",
    "rf_features_hateval_idx = rf_hateval.feature_importances_.argsort()[::-1]\n",
    "palabras_odio_rf_hateval = np.array(cv_hateval.get_feature_names())[rf_features_hateval_idx[:100]]\n",
    "palabras_odio['hateval_rf'] = pd.Series(palabras_odio_rf_hateval)\n",
    "\n",
    "if verbose_hate_words:\n",
    "    print(palabras_odio_rf_hateval)\n",
    "    print(rf_hateval.feature_importances_[rf_features_hateval_idx[:30]])"
   ]
  },
  {
   "cell_type": "code",
   "execution_count": 18,
   "id": "7ac153a9-bb3b-4ab8-9f62-a1db3d13c840",
   "metadata": {},
   "outputs": [
    {
     "name": "stderr",
     "output_type": "stream",
     "text": [
      "/home/juan/anaconda3/lib/python3.8/site-packages/sklearn/utils/deprecation.py:87: FutureWarning: Function plot_confusion_matrix is deprecated; Function `plot_confusion_matrix` is deprecated in 1.0 and will be removed in 1.2. Use one of the class methods: ConfusionMatrixDisplay.from_predictions or ConfusionMatrixDisplay.from_estimator.\n",
      "  warnings.warn(msg, category=FutureWarning)\n"
     ]
    },
    {
     "name": "stdout",
     "output_type": "stream",
     "text": [
      "\n",
      "Métricas (train)\n",
      "              precision    recall  f1-score   support\n",
      "\n",
      "           0       0.81      0.90      0.85      1674\n",
      "           1       0.87      0.77      0.81      1476\n",
      "\n",
      "    accuracy                           0.84      3150\n",
      "   macro avg       0.84      0.83      0.83      3150\n",
      "weighted avg       0.84      0.84      0.84      3150\n",
      "\n",
      "Matriz de confusión (train)\n"
     ]
    },
    {
     "data": {
      "image/png": "[encoded data removed]",
      "text/plain": [
       "<Figure size 432x288 with 2 Axes>"
      ]
     },
     "metadata": {
      "needs_background": "light"
     },
     "output_type": "display_data"
    },
    {
     "name": "stdout",
     "output_type": "stream",
     "text": [
      "\n",
      "Métricas (val)\n",
      "              precision    recall  f1-score   support\n",
      "\n",
      "           0       0.76      0.83      0.79       719\n",
      "           1       0.79      0.70      0.74       631\n",
      "\n",
      "    accuracy                           0.77      1350\n",
      "   macro avg       0.77      0.77      0.77      1350\n",
      "weighted avg       0.77      0.77      0.77      1350\n",
      "\n",
      "Matriz de confusión (val)\n"
     ]
    },
    {
     "name": "stderr",
     "output_type": "stream",
     "text": [
      "/home/juan/anaconda3/lib/python3.8/site-packages/sklearn/utils/deprecation.py:87: FutureWarning: Function plot_confusion_matrix is deprecated; Function `plot_confusion_matrix` is deprecated in 1.0 and will be removed in 1.2. Use one of the class methods: ConfusionMatrixDisplay.from_predictions or ConfusionMatrixDisplay.from_estimator.\n",
      "  warnings.warn(msg, category=FutureWarning)\n"
     ]
    },
    {
     "data": {
      "image/png": "[encoded data removed]",
      "text/plain": [
       "<Figure size 432x288 with 2 Axes>"
      ]
     },
     "metadata": {
      "needs_background": "light"
     },
     "output_type": "display_data"
    }
   ],
   "source": [
    "process_training_pipeline(hateval_corpus_lines, \n",
    "                          cv_hateval,\n",
    "                          y_hateval,\n",
    "                          nb_hateval\n",
    "                         )"
   ]
  },
  {
   "cell_type": "code",
   "execution_count": 19,
   "id": "ad6358d7-c215-43ed-af3d-dc7a57d58405",
   "metadata": {},
   "outputs": [
    {
     "name": "stderr",
     "output_type": "stream",
     "text": [
      "/home/juan/anaconda3/lib/python3.8/site-packages/sklearn/utils/deprecation.py:87: FutureWarning: Function get_feature_names is deprecated; get_feature_names is deprecated in 1.0 and will be removed in 1.2. Please use get_feature_names_out instead.\n",
      "  warnings.warn(msg, category=FutureWarning)\n"
     ]
    }
   ],
   "source": [
    "# basado en https://stackoverflow.com/questions/50526898/how-to-get-feature-importance-in-naive-bayes\n",
    "pos_class_prob_sorted = nb_hateval.feature_log_prob_[1, :].argsort()[::-1]\n",
    "palabras_odio_nb_hateval = np.take(cv_hateval.get_feature_names(), pos_class_prob_sorted[:100])\n",
    "palabras_odio['hateval_nb'] = pd.Series(palabras_odio_nb_hateval)\n",
    "\n",
    "if verbose_hate_words:\n",
    "    print(palabras_odio_nb_hateval)"
   ]
  },
  {
   "cell_type": "code",
   "execution_count": 20,
   "id": "646f7e53-0482-4606-94c0-ab38dfb01090",
   "metadata": {},
   "outputs": [],
   "source": [
    "# guardamos el vectorizador y los modelos entrenados\n",
    "\n",
    "with open('docs/models/hateval_vectorizer.pkl', 'wb') as file:\n",
    "    pickle.dump(cv_hateval, file)\n",
    "\n",
    "with open('docs/models/hateval_lg_model.pkl', 'wb') as file:\n",
    "    pickle.dump(lg_hateval, file)\n",
    "\n",
    "with open('docs/models/hateval_nb_model.pkl', 'wb') as file:\n",
    "    pickle.dump(nb_hateval, file)\n",
    "\n",
    "with open('docs/models/hateval_rf_model.pkl', 'wb') as file:\n",
    "    pickle.dump(rf_hateval, file)\n",
    "    "
   ]
  },
  {
   "cell_type": "markdown",
   "id": "be47d164-9fda-4f62-a524-144f21c67010",
   "metadata": {},
   "source": [
    "## Detoxis dataset"
   ]
  },
  {
   "cell_type": "code",
   "execution_count": 21,
   "id": "38343975-280d-4f10-98b5-57f821ad56d7",
   "metadata": {},
   "outputs": [],
   "source": [
    "detoxis_corpus_lines = preprocess_corpus(detoxis['comment'])\n",
    "y_detoxis = detoxis['aggressiveness']"
   ]
  },
  {
   "cell_type": "code",
   "execution_count": 22,
   "id": "27b5d506-5a1b-4ccd-a31a-f10c3edbae10",
   "metadata": {},
   "outputs": [
    {
     "data": {
      "text/plain": [
       "2       1\n",
       "5       1\n",
       "10      1\n",
       "29      1\n",
       "32      1\n",
       "       ..\n",
       "3280    1\n",
       "3288    1\n",
       "3289    1\n",
       "3291    1\n",
       "3295    1\n",
       "Name: aggressiveness, Length: 114, dtype: int64"
      ]
     },
     "execution_count": 22,
     "metadata": {},
     "output_type": "execute_result"
    }
   ],
   "source": [
    "y_detoxis[detoxis['aggressiveness']==1]"
   ]
  },
  {
   "cell_type": "code",
   "execution_count": 23,
   "id": "80eeaae0-d82e-401b-ab6d-f42f59a431fc",
   "metadata": {},
   "outputs": [],
   "source": [
    "cv_detoxis = CountVectorizer(ngram_range=(1, 3), min_df=10)\n",
    "lg_detoxis = LogisticRegression(random_state=42)\n",
    "nb_detoxis = ComplementNB()\n",
    "rf_detoxis = RandomForestClassifier(random_state=42)"
   ]
  },
  {
   "cell_type": "code",
   "execution_count": 24,
   "id": "da6abfab-f89a-4a11-9024-8dc361ddac96",
   "metadata": {},
   "outputs": [
    {
     "name": "stdout",
     "output_type": "stream",
     "text": [
      "\n",
      "Métricas (train)\n",
      "              precision    recall  f1-score   support\n",
      "\n",
      "           0       1.00      0.99      1.00      2371\n",
      "           1       0.72      1.00      0.83        53\n",
      "\n",
      "    accuracy                           0.99      2424\n",
      "   macro avg       0.86      1.00      0.92      2424\n",
      "weighted avg       0.99      0.99      0.99      2424\n",
      "\n",
      "Matriz de confusión (train)\n"
     ]
    },
    {
     "name": "stderr",
     "output_type": "stream",
     "text": [
      "/home/juan/anaconda3/lib/python3.8/site-packages/sklearn/utils/deprecation.py:87: FutureWarning: Function plot_confusion_matrix is deprecated; Function `plot_confusion_matrix` is deprecated in 1.0 and will be removed in 1.2. Use one of the class methods: ConfusionMatrixDisplay.from_predictions or ConfusionMatrixDisplay.from_estimator.\n",
      "  warnings.warn(msg, category=FutureWarning)\n"
     ]
    },
    {
     "data": {
      "image/png": "[encoded data removed]",
      "text/plain": [
       "<Figure size 432x288 with 2 Axes>"
      ]
     },
     "metadata": {
      "needs_background": "light"
     },
     "output_type": "display_data"
    },
    {
     "name": "stdout",
     "output_type": "stream",
     "text": [
      "\n",
      "Métricas (val)\n",
      "              precision    recall  f1-score   support\n",
      "\n",
      "           0       0.99      0.96      0.98      1032\n",
      "           1       0.05      0.29      0.09         7\n",
      "\n",
      "    accuracy                           0.96      1039\n",
      "   macro avg       0.52      0.62      0.53      1039\n",
      "weighted avg       0.99      0.96      0.97      1039\n",
      "\n",
      "Matriz de confusión (val)\n"
     ]
    },
    {
     "name": "stderr",
     "output_type": "stream",
     "text": [
      "/home/juan/anaconda3/lib/python3.8/site-packages/sklearn/utils/deprecation.py:87: FutureWarning: Function plot_confusion_matrix is deprecated; Function `plot_confusion_matrix` is deprecated in 1.0 and will be removed in 1.2. Use one of the class methods: ConfusionMatrixDisplay.from_predictions or ConfusionMatrixDisplay.from_estimator.\n",
      "  warnings.warn(msg, category=FutureWarning)\n"
     ]
    },
    {
     "data": {
      "image/png": "[encoded data removed]",
      "text/plain": [
       "<Figure size 432x288 with 2 Axes>"
      ]
     },
     "metadata": {
      "needs_background": "light"
     },
     "output_type": "display_data"
    }
   ],
   "source": [
    "process_training_pipeline(detoxis_corpus_lines, \n",
    "                          cv_detoxis,\n",
    "                          y_detoxis,\n",
    "                          lg_detoxis\n",
    "                         )"
   ]
  },
  {
   "cell_type": "code",
   "execution_count": 25,
   "id": "e89e07e0-a1b3-4b83-8de7-733c5ced3ecf",
   "metadata": {},
   "outputs": [
    {
     "name": "stdout",
     "output_type": "stream",
     "text": [
      "\n",
      "Métricas (train)\n",
      "              precision    recall  f1-score   support\n",
      "\n",
      "           0       0.91      0.99      0.95      2160\n",
      "           1       0.85      0.24      0.37       264\n",
      "\n",
      "    accuracy                           0.91      2424\n",
      "   macro avg       0.88      0.62      0.66      2424\n",
      "weighted avg       0.91      0.91      0.89      2424\n",
      "\n",
      "Matriz de confusión (train)\n"
     ]
    },
    {
     "name": "stderr",
     "output_type": "stream",
     "text": [
      "/home/juan/anaconda3/lib/python3.8/site-packages/sklearn/utils/deprecation.py:87: FutureWarning: Function plot_confusion_matrix is deprecated; Function `plot_confusion_matrix` is deprecated in 1.0 and will be removed in 1.2. Use one of the class methods: ConfusionMatrixDisplay.from_predictions or ConfusionMatrixDisplay.from_estimator.\n",
      "  warnings.warn(msg, category=FutureWarning)\n"
     ]
    },
    {
     "data": {
      "image/png": "[encoded data removed]",
      "text/plain": [
       "<Figure size 432x288 with 2 Axes>"
      ]
     },
     "metadata": {
      "needs_background": "light"
     },
     "output_type": "display_data"
    },
    {
     "name": "stdout",
     "output_type": "stream",
     "text": [
      "\n",
      "Métricas (val)\n",
      "              precision    recall  f1-score   support\n",
      "\n",
      "           0       0.88      0.97      0.92       914\n",
      "           1       0.23      0.07      0.11       125\n",
      "\n",
      "    accuracy                           0.86      1039\n",
      "   macro avg       0.55      0.52      0.52      1039\n",
      "weighted avg       0.80      0.86      0.83      1039\n",
      "\n",
      "Matriz de confusión (val)\n"
     ]
    },
    {
     "name": "stderr",
     "output_type": "stream",
     "text": [
      "/home/juan/anaconda3/lib/python3.8/site-packages/sklearn/utils/deprecation.py:87: FutureWarning: Function plot_confusion_matrix is deprecated; Function `plot_confusion_matrix` is deprecated in 1.0 and will be removed in 1.2. Use one of the class methods: ConfusionMatrixDisplay.from_predictions or ConfusionMatrixDisplay.from_estimator.\n",
      "  warnings.warn(msg, category=FutureWarning)\n"
     ]
    },
    {
     "data": {
      "image/png": "[encoded data removed]",
      "text/plain": [
       "<Figure size 432x288 with 2 Axes>"
      ]
     },
     "metadata": {
      "needs_background": "light"
     },
     "output_type": "display_data"
    }
   ],
   "source": [
    "process_training_pipeline(detoxis_corpus_lines, \n",
    "                          cv_detoxis,\n",
    "                          y_detoxis,\n",
    "                          nb_detoxis\n",
    "                         )"
   ]
  },
  {
   "cell_type": "code",
   "execution_count": 26,
   "id": "a2742b84-610b-44ab-875d-356367e0c535",
   "metadata": {},
   "outputs": [
    {
     "name": "stderr",
     "output_type": "stream",
     "text": [
      "/home/juan/anaconda3/lib/python3.8/site-packages/sklearn/utils/deprecation.py:87: FutureWarning: Function get_feature_names is deprecated; get_feature_names is deprecated in 1.0 and will be removed in 1.2. Please use get_feature_names_out instead.\n",
      "  warnings.warn(msg, category=FutureWarning)\n"
     ]
    }
   ],
   "source": [
    "pos_class_prob_sorted = nb_detoxis.feature_log_prob_[1, :].argsort()[::-1]\n",
    "palabras_odio_nb_detoxis = np.take(cv_detoxis.get_feature_names(), pos_class_prob_sorted[:100])\n",
    "palabras_odio['detoxis_nb'] = pd.Series(palabras_odio_nb_detoxis)\n",
    "\n",
    "if verbose_hate_words:\n",
    "    print(palabras_odio_nb_detoxis)"
   ]
  },
  {
   "cell_type": "code",
   "execution_count": 27,
   "id": "70308100-ce59-40a7-8bf7-38f9f895f283",
   "metadata": {},
   "outputs": [
    {
     "name": "stdout",
     "output_type": "stream",
     "text": [
      "\n",
      "Métricas (train)\n",
      "              precision    recall  f1-score   support\n",
      "\n",
      "           0       1.00      1.00      1.00      2351\n",
      "           1       0.99      1.00      0.99        73\n",
      "\n",
      "    accuracy                           1.00      2424\n",
      "   macro avg       0.99      1.00      1.00      2424\n",
      "weighted avg       1.00      1.00      1.00      2424\n",
      "\n",
      "Matriz de confusión (train)\n"
     ]
    },
    {
     "name": "stderr",
     "output_type": "stream",
     "text": [
      "/home/juan/anaconda3/lib/python3.8/site-packages/sklearn/utils/deprecation.py:87: FutureWarning: Function plot_confusion_matrix is deprecated; Function `plot_confusion_matrix` is deprecated in 1.0 and will be removed in 1.2. Use one of the class methods: ConfusionMatrixDisplay.from_predictions or ConfusionMatrixDisplay.from_estimator.\n",
      "  warnings.warn(msg, category=FutureWarning)\n"
     ]
    },
    {
     "data": {
      "image/png": "[encoded data removed]",
      "text/plain": [
       "<Figure size 432x288 with 2 Axes>"
      ]
     },
     "metadata": {
      "needs_background": "light"
     },
     "output_type": "display_data"
    },
    {
     "name": "stdout",
     "output_type": "stream",
     "text": [
      "\n",
      "Métricas (val)\n",
      "              precision    recall  f1-score   support\n",
      "\n",
      "           0       1.00      0.96      0.98      1039\n",
      "           1       0.00      0.00      0.00         0\n",
      "\n",
      "    accuracy                           0.96      1039\n",
      "   macro avg       0.50      0.48      0.49      1039\n",
      "weighted avg       1.00      0.96      0.98      1039\n",
      "\n",
      "Matriz de confusión (val)\n"
     ]
    },
    {
     "name": "stderr",
     "output_type": "stream",
     "text": [
      "/home/juan/anaconda3/lib/python3.8/site-packages/sklearn/metrics/_classification.py:1308: UndefinedMetricWarning: Recall and F-score are ill-defined and being set to 0.0 in labels with no true samples. Use `zero_division` parameter to control this behavior.\n",
      "  _warn_prf(average, modifier, msg_start, len(result))\n",
      "/home/juan/anaconda3/lib/python3.8/site-packages/sklearn/metrics/_classification.py:1308: UndefinedMetricWarning: Recall and F-score are ill-defined and being set to 0.0 in labels with no true samples. Use `zero_division` parameter to control this behavior.\n",
      "  _warn_prf(average, modifier, msg_start, len(result))\n",
      "/home/juan/anaconda3/lib/python3.8/site-packages/sklearn/metrics/_classification.py:1308: UndefinedMetricWarning: Recall and F-score are ill-defined and being set to 0.0 in labels with no true samples. Use `zero_division` parameter to control this behavior.\n",
      "  _warn_prf(average, modifier, msg_start, len(result))\n",
      "/home/juan/anaconda3/lib/python3.8/site-packages/sklearn/utils/deprecation.py:87: FutureWarning: Function plot_confusion_matrix is deprecated; Function `plot_confusion_matrix` is deprecated in 1.0 and will be removed in 1.2. Use one of the class methods: ConfusionMatrixDisplay.from_predictions or ConfusionMatrixDisplay.from_estimator.\n",
      "  warnings.warn(msg, category=FutureWarning)\n"
     ]
    },
    {
     "data": {
      "image/png": "[encoded data removed]",
      "text/plain": [
       "<Figure size 432x288 with 2 Axes>"
      ]
     },
     "metadata": {
      "needs_background": "light"
     },
     "output_type": "display_data"
    }
   ],
   "source": [
    "process_training_pipeline(detoxis_corpus_lines, \n",
    "                          cv_detoxis,\n",
    "                          y_detoxis,\n",
    "                          rf_detoxis\n",
    "                         )"
   ]
  },
  {
   "cell_type": "code",
   "execution_count": 28,
   "id": "b0345bb0-e800-4243-b877-4286b419b822",
   "metadata": {},
   "outputs": [
    {
     "name": "stderr",
     "output_type": "stream",
     "text": [
      "/home/juan/anaconda3/lib/python3.8/site-packages/sklearn/utils/deprecation.py:87: FutureWarning: Function get_feature_names is deprecated; get_feature_names is deprecated in 1.0 and will be removed in 1.2. Please use get_feature_names_out instead.\n",
      "  warnings.warn(msg, category=FutureWarning)\n"
     ]
    }
   ],
   "source": [
    "# obtenemos las características que más aportan a la clasificación del modelo random forest\n",
    "rf_features_detoxis_idx = rf_detoxis.feature_importances_.argsort()[::-1]\n",
    "palabras_odio_rf_detoxis = np.array(cv_detoxis.get_feature_names())[rf_features_detoxis_idx[:100]]\n",
    "palabras_odio['detoxis_rf'] = pd.Series(palabras_odio_rf_detoxis)\n",
    "\n",
    "if verbose_hate_words:\n",
    "    print(palabras_odio_rf_detoxis)\n",
    "    print(rf_detoxis.feature_importances_[rf_features_detoxis_idx[:30]])"
   ]
  },
  {
   "cell_type": "code",
   "execution_count": 29,
   "id": "c3795034-9e37-4a44-b735-7cf789ba8c53",
   "metadata": {},
   "outputs": [],
   "source": [
    "# guardamos el vectorizador y los modelos entrenados\n",
    "\n",
    "with open('docs/models/detoxis_vectorizer.pkl', 'wb') as file:\n",
    "    pickle.dump(cv_detoxis, file)\n",
    "\n",
    "with open('docs/models/detoxis_lg_model.pkl', 'wb') as file:\n",
    "    pickle.dump(lg_detoxis, file)\n",
    "\n",
    "with open('docs/models/detoxis_nb_model.pkl', 'wb') as file:\n",
    "    pickle.dump(nb_detoxis, file)\n",
    "\n",
    "with open('docs/models/detoxis_rf_model.pkl', 'wb') as file:\n",
    "    pickle.dump(rf_detoxis, file)\n",
    "    "
   ]
  },
  {
   "cell_type": "markdown",
   "id": "2878fdd1-29f1-49bb-813f-f110274fb6fe",
   "metadata": {},
   "source": [
    "## MeOffendMex dataset"
   ]
  },
  {
   "cell_type": "code",
   "execution_count": 30,
   "id": "8cb20024-bc52-408e-80c7-3efbe55927e0",
   "metadata": {},
   "outputs": [],
   "source": [
    "cv_meoffendmex = CountVectorizer(ngram_range=(1, 3), min_df=10)\n",
    "lg_meoffendmex = LogisticRegression(random_state=42)\n",
    "nb_meoffendmex = ComplementNB()\n",
    "rf_meoffendmex = RandomForestClassifier(random_state=42)"
   ]
  },
  {
   "cell_type": "code",
   "execution_count": 31,
   "id": "e4915cb5-cabb-41e2-b4bc-21759d5969ee",
   "metadata": {},
   "outputs": [],
   "source": [
    "meoffendmex_corpus_lines = preprocess_corpus(meoffendmex['tweet:text'])"
   ]
  },
  {
   "cell_type": "code",
   "execution_count": 32,
   "id": "741e181c-7515-4ff5-90d7-6bcc8d5de840",
   "metadata": {},
   "outputs": [
    {
     "name": "stdout",
     "output_type": "stream",
     "text": [
      "\n",
      "Métricas (train)\n",
      "              precision    recall  f1-score   support\n",
      "\n",
      "           0       0.97      0.90      0.93      2814\n",
      "           1       0.69      0.89      0.78       728\n",
      "\n",
      "    accuracy                           0.90      3542\n",
      "   macro avg       0.83      0.90      0.86      3542\n",
      "weighted avg       0.91      0.90      0.90      3542\n",
      "\n",
      "Matriz de confusión (train)\n"
     ]
    },
    {
     "name": "stderr",
     "output_type": "stream",
     "text": [
      "/home/juan/anaconda3/lib/python3.8/site-packages/sklearn/utils/validation.py:985: DataConversionWarning: A column-vector y was passed when a 1d array was expected. Please change the shape of y to (n_samples, ), for example using ravel().\n",
      "  y = column_or_1d(y, warn=True)\n",
      "/home/juan/anaconda3/lib/python3.8/site-packages/sklearn/utils/deprecation.py:87: FutureWarning: Function plot_confusion_matrix is deprecated; Function `plot_confusion_matrix` is deprecated in 1.0 and will be removed in 1.2. Use one of the class methods: ConfusionMatrixDisplay.from_predictions or ConfusionMatrixDisplay.from_estimator.\n",
      "  warnings.warn(msg, category=FutureWarning)\n"
     ]
    },
    {
     "data": {
      "image/png": "[encoded data removed]",
      "text/plain": [
       "<Figure size 432x288 with 2 Axes>"
      ]
     },
     "metadata": {
      "needs_background": "light"
     },
     "output_type": "display_data"
    },
    {
     "name": "stdout",
     "output_type": "stream",
     "text": [
      "\n",
      "Métricas (val)\n",
      "              precision    recall  f1-score   support\n",
      "\n",
      "           0       0.91      0.80      0.85      1225\n",
      "           1       0.44      0.67      0.53       293\n",
      "\n",
      "    accuracy                           0.77      1518\n",
      "   macro avg       0.68      0.73      0.69      1518\n",
      "weighted avg       0.82      0.77      0.79      1518\n",
      "\n",
      "Matriz de confusión (val)\n"
     ]
    },
    {
     "name": "stderr",
     "output_type": "stream",
     "text": [
      "/home/juan/anaconda3/lib/python3.8/site-packages/sklearn/utils/deprecation.py:87: FutureWarning: Function plot_confusion_matrix is deprecated; Function `plot_confusion_matrix` is deprecated in 1.0 and will be removed in 1.2. Use one of the class methods: ConfusionMatrixDisplay.from_predictions or ConfusionMatrixDisplay.from_estimator.\n",
      "  warnings.warn(msg, category=FutureWarning)\n"
     ]
    },
    {
     "data": {
      "image/png": "[encoded data removed]",
      "text/plain": [
       "<Figure size 432x288 with 2 Axes>"
      ]
     },
     "metadata": {
      "needs_background": "light"
     },
     "output_type": "display_data"
    }
   ],
   "source": [
    "process_training_pipeline(meoffendmex_corpus_lines, \n",
    "                          cv_meoffendmex,\n",
    "                          y_meoffendmex,\n",
    "                          lg_meoffendmex\n",
    "                         )"
   ]
  },
  {
   "cell_type": "code",
   "execution_count": 33,
   "id": "e7db517d-3939-417d-a0c7-7dab9a9ab110",
   "metadata": {},
   "outputs": [],
   "source": [
    "# TODO extracción de palabras de odio con log regression\n",
    "#cv_meoffendmex\n",
    "\n",
    "\n",
    "palabras_odio_lg_meoffendmex = []"
   ]
  },
  {
   "cell_type": "code",
   "execution_count": 34,
   "id": "16eb5268-9e43-43a4-80b6-743bd70626c1",
   "metadata": {},
   "outputs": [
    {
     "name": "stdout",
     "output_type": "stream",
     "text": [
      "\n",
      "Métricas (train)\n",
      "              precision    recall  f1-score   support\n",
      "\n",
      "           0       0.80      0.93      0.86      2243\n",
      "           1       0.83      0.60      0.69      1299\n",
      "\n",
      "    accuracy                           0.81      3542\n",
      "   macro avg       0.81      0.76      0.78      3542\n",
      "weighted avg       0.81      0.81      0.80      3542\n",
      "\n",
      "Matriz de confusión (train)\n"
     ]
    },
    {
     "name": "stderr",
     "output_type": "stream",
     "text": [
      "/home/juan/anaconda3/lib/python3.8/site-packages/sklearn/utils/validation.py:985: DataConversionWarning: A column-vector y was passed when a 1d array was expected. Please change the shape of y to (n_samples, ), for example using ravel().\n",
      "  y = column_or_1d(y, warn=True)\n",
      "/home/juan/anaconda3/lib/python3.8/site-packages/sklearn/utils/deprecation.py:87: FutureWarning: Function plot_confusion_matrix is deprecated; Function `plot_confusion_matrix` is deprecated in 1.0 and will be removed in 1.2. Use one of the class methods: ConfusionMatrixDisplay.from_predictions or ConfusionMatrixDisplay.from_estimator.\n",
      "  warnings.warn(msg, category=FutureWarning)\n"
     ]
    },
    {
     "data": {
      "image/png": "[encoded data removed]",
      "text/plain": [
       "<Figure size 432x288 with 2 Axes>"
      ]
     },
     "metadata": {
      "needs_background": "light"
     },
     "output_type": "display_data"
    },
    {
     "name": "stdout",
     "output_type": "stream",
     "text": [
      "\n",
      "Métricas (val)\n",
      "              precision    recall  f1-score   support\n",
      "\n",
      "           0       0.79      0.86      0.82       985\n",
      "           1       0.69      0.57      0.62       533\n",
      "\n",
      "    accuracy                           0.76      1518\n",
      "   macro avg       0.74      0.71      0.72      1518\n",
      "weighted avg       0.75      0.76      0.75      1518\n",
      "\n",
      "Matriz de confusión (val)\n"
     ]
    },
    {
     "name": "stderr",
     "output_type": "stream",
     "text": [
      "/home/juan/anaconda3/lib/python3.8/site-packages/sklearn/utils/deprecation.py:87: FutureWarning: Function plot_confusion_matrix is deprecated; Function `plot_confusion_matrix` is deprecated in 1.0 and will be removed in 1.2. Use one of the class methods: ConfusionMatrixDisplay.from_predictions or ConfusionMatrixDisplay.from_estimator.\n",
      "  warnings.warn(msg, category=FutureWarning)\n"
     ]
    },
    {
     "data": {
      "image/png": "[encoded data removed]",
      "text/plain": [
       "<Figure size 432x288 with 2 Axes>"
      ]
     },
     "metadata": {
      "needs_background": "light"
     },
     "output_type": "display_data"
    }
   ],
   "source": [
    "process_training_pipeline(meoffendmex_corpus_lines, \n",
    "                          cv_meoffendmex,\n",
    "                          y_meoffendmex,\n",
    "                          nb_meoffendmex\n",
    "                         )"
   ]
  },
  {
   "cell_type": "code",
   "execution_count": 35,
   "id": "6fe70ea4-a0c8-46bd-8576-e295c5d0a823",
   "metadata": {},
   "outputs": [
    {
     "name": "stdout",
     "output_type": "stream",
     "text": [
      "['el mundial' 'chilenos' 'por putos' 'prietas' 'como tu' 'mexicanos'\n",
      " 'argentinos' 'gringos' 'mil putas' 'son unos' 'esperar' 'sabemos'\n",
      " 'eres un' 'par' 'viernes' 'solo por' 'putito' 'putos hondureños' 'gordo'\n",
      " 'ver si' 'hijo de tu' 'hondureños' 'la mierda' 'lo peor' 'lameculos'\n",
      " 'por ser' 'tal vez' 'de sus putas' 'te voy' 'perra' 'tambien' 'te vas'\n",
      " 'son bien' 'sabía' 'con tus' 'que putos' 'cuándo' 'de este'\n",
      " 'tienen madre' 'hija de' 'de su puta' 'cago' 'carajo' 'realidad'\n",
      " 'son putos' 'el joto' 'basura' 'esa golfa' 'el hdp' 'unos putos'\n",
      " 'sus putas madres' 'siendo' 'trump' 'que feas' 'putos los' 'vieja'\n",
      " 'viejas' 'los de' 'madre los' 'madre me' 'punto de' 'primero'\n",
      " 'presidente' 'porno' 'váyanse' 'al mundial' 'pinche gorda' 'ya lo'\n",
      " 'pienso' 'piensan' 'no sea' 'no tienen madre' 'argentina' 'aparte'\n",
      " 'que bueno que' 'vete' 'vete la verga' 'vete la' 'azul' 'noerapenal'\n",
      " 'deja de' 'moral' 'pinche joto' 'el culo' 'pasar' 'ir al' 'que quiero'\n",
      " 'conozco' 'tantos' 'pela' 'de tu puta' 'políticos' 'más feas' 'mía'\n",
      " 'que pedo' 'pendejas' 'costumbre' 'grupo' 'son los' 'ratas']\n"
     ]
    },
    {
     "name": "stderr",
     "output_type": "stream",
     "text": [
      "/home/juan/anaconda3/lib/python3.8/site-packages/sklearn/utils/deprecation.py:87: FutureWarning: Function get_feature_names is deprecated; get_feature_names is deprecated in 1.0 and will be removed in 1.2. Please use get_feature_names_out instead.\n",
      "  warnings.warn(msg, category=FutureWarning)\n"
     ]
    }
   ],
   "source": [
    "pos_class_prob_sorted = nb_meoffendmex.feature_log_prob_[1, :].argsort()[::-1]\n",
    "palabras_odio_nb_meoffendmex = np.take(cv_meoffendmex.get_feature_names(), pos_class_prob_sorted[:100])\n",
    "palabras_odio['meoffendmex_nb'] = pd.Series(palabras_odio_nb_meoffendmex)\n",
    "\n",
    "if verbose:\n",
    "    print(palabras_odio_nb_meoffendmex)"
   ]
  },
  {
   "cell_type": "code",
   "execution_count": 36,
   "id": "39814157-ffc0-49a1-bc84-724df6c83c1a",
   "metadata": {},
   "outputs": [
    {
     "name": "stderr",
     "output_type": "stream",
     "text": [
      "<ipython-input-10-5a0831644151>:4: DataConversionWarning: A column-vector y was passed when a 1d array was expected. Please change the shape of y to (n_samples,), for example using ravel().\n",
      "  model.fit(X_tr, y_tr)\n"
     ]
    },
    {
     "name": "stdout",
     "output_type": "stream",
     "text": [
      "\n",
      "Métricas (train)\n",
      "              precision    recall  f1-score   support\n",
      "\n",
      "           0       1.00      1.00      1.00      2604\n",
      "           1       1.00      1.00      1.00       938\n",
      "\n",
      "    accuracy                           1.00      3542\n",
      "   macro avg       1.00      1.00      1.00      3542\n",
      "weighted avg       1.00      1.00      1.00      3542\n",
      "\n",
      "Matriz de confusión (train)\n"
     ]
    },
    {
     "name": "stderr",
     "output_type": "stream",
     "text": [
      "/home/juan/anaconda3/lib/python3.8/site-packages/sklearn/utils/deprecation.py:87: FutureWarning: Function plot_confusion_matrix is deprecated; Function `plot_confusion_matrix` is deprecated in 1.0 and will be removed in 1.2. Use one of the class methods: ConfusionMatrixDisplay.from_predictions or ConfusionMatrixDisplay.from_estimator.\n",
      "  warnings.warn(msg, category=FutureWarning)\n"
     ]
    },
    {
     "data": {
      "image/png": "[encoded data removed]",
      "text/plain": [
       "<Figure size 432x288 with 2 Axes>"
      ]
     },
     "metadata": {
      "needs_background": "light"
     },
     "output_type": "display_data"
    },
    {
     "name": "stderr",
     "output_type": "stream",
     "text": [
      "/home/juan/anaconda3/lib/python3.8/site-packages/sklearn/utils/deprecation.py:87: FutureWarning: Function plot_confusion_matrix is deprecated; Function `plot_confusion_matrix` is deprecated in 1.0 and will be removed in 1.2. Use one of the class methods: ConfusionMatrixDisplay.from_predictions or ConfusionMatrixDisplay.from_estimator.\n",
      "  warnings.warn(msg, category=FutureWarning)\n"
     ]
    },
    {
     "name": "stdout",
     "output_type": "stream",
     "text": [
      "\n",
      "Métricas (val)\n",
      "              precision    recall  f1-score   support\n",
      "\n",
      "           0       0.95      0.79      0.87      1291\n",
      "           1       0.40      0.78      0.53       227\n",
      "\n",
      "    accuracy                           0.79      1518\n",
      "   macro avg       0.67      0.78      0.70      1518\n",
      "weighted avg       0.87      0.79      0.81      1518\n",
      "\n",
      "Matriz de confusión (val)\n"
     ]
    },
    {
     "data": {
      "image/png": "[encoded data removed]",
      "text/plain": [
       "<Figure size 432x288 with 2 Axes>"
      ]
     },
     "metadata": {
      "needs_background": "light"
     },
     "output_type": "display_data"
    }
   ],
   "source": [
    "process_training_pipeline(meoffendmex_corpus_lines, \n",
    "                          cv_meoffendmex,\n",
    "                          y_meoffendmex,\n",
    "                          rf_meoffendmex\n",
    "                         )"
   ]
  },
  {
   "cell_type": "code",
   "execution_count": 37,
   "id": "6eef7b3b-d192-47ea-9ffd-bdae9ae9d459",
   "metadata": {},
   "outputs": [
    {
     "name": "stdout",
     "output_type": "stream",
     "text": [
      "['hdp' 'pinche' 'tu' 'que' 'de' 'maricon' 'putos' 'la' 'me' 'joto' 'no'\n",
      " 'son' 'el' 'en' 'pendejo' 'tu madre' 'los' 'se' 'hijo de' 'madre' 'loca'\n",
      " 'es' 'por' 'pinches' 'te' 'ya' 'las' 'lo' 'hijo' 'un' 'verga' 'con'\n",
      " 'para' 'vieja' 'golfa' 'prieta' 'lameculos' 'una' 'putas' 'su' 'mi'\n",
      " 'como' 'eres' 'si' 'perra' 'pero' 'maricón' 'marica' 'la gorda' 'puto'\n",
      " 'pendejos' 'puta' 'estoy' 'esta' 'gorda' 'de la' 'mundial' 'vete'\n",
      " 'mierda' 'bien' 'más' 'hijos de' 'de mierda' 'le' 'del' 'pendeja' 'al'\n",
      " 'les' 'yo' 'vas' 'prietas' 'jajajaja' 'hijos' 'solo' 'gordas'\n",
      " 'hondureños' 'jajaja' 'él' 'chingar' 'cuando' 'todos' 'mil putas' 'ser'\n",
      " 'trump' 'feas' 'ojalá' 'tu puta' 'qué' 'chilenos' 'tus' 'putita' 'viejas'\n",
      " 'que no' 'porque' 'ni' 'culo' 'mujeres' 'chingas tu' 'que se' 'está']\n"
     ]
    },
    {
     "name": "stderr",
     "output_type": "stream",
     "text": [
      "/home/juan/anaconda3/lib/python3.8/site-packages/sklearn/utils/deprecation.py:87: FutureWarning: Function get_feature_names is deprecated; get_feature_names is deprecated in 1.0 and will be removed in 1.2. Please use get_feature_names_out instead.\n",
      "  warnings.warn(msg, category=FutureWarning)\n"
     ]
    }
   ],
   "source": [
    "# obtenemos las características que más aportan a la clasificación del modelo random forest\n",
    "rf_features_meoffendmex_idx = rf_meoffendmex.feature_importances_.argsort()[::-1]\n",
    "palabras_odio_rf_meoffendmex = np.array(cv_meoffendmex.get_feature_names())[rf_features_meoffendmex_idx[:100]]\n",
    "palabras_odio['meoffendmex_rf'] = pd.Series(palabras_odio_rf_meoffendmex)\n",
    "\n",
    "if verbose:\n",
    "    print(palabras_odio_rf_meoffendmex)"
   ]
  },
  {
   "cell_type": "code",
   "execution_count": 38,
   "id": "9a6c31b1-35c1-4759-9a81-18b2659bbbaa",
   "metadata": {
    "tags": []
   },
   "outputs": [],
   "source": [
    "# guardamos los modelos entrenados\n",
    "\n",
    "with open('docs/models/meoffendmex_vectorizer.pkl', 'wb') as file:\n",
    "    pickle.dump(cv_meoffendmex, file)\n",
    "\n",
    "with open('docs/models/meoffendmex_lg_model.pkl', 'wb') as file:\n",
    "    pickle.dump(lg_meoffendmex, file)\n",
    "\n",
    "with open('docs/models/meoffendmex_nb_model.pkl', 'wb') as file:\n",
    "    pickle.dump(nb_meoffendmex, file)\n",
    "\n",
    "with open('docs/models/meoffendmex_rf_model.pkl', 'wb') as file:\n",
    "    pickle.dump(rf_meoffendmex, file)\n",
    "    "
   ]
  },
  {
   "cell_type": "markdown",
   "id": "e586ede5-34b5-48cc-a264-e9a12eef6554",
   "metadata": {},
   "source": [
    "### Guardamos las palabras de odio"
   ]
  },
  {
   "cell_type": "code",
   "execution_count": 39,
   "id": "72862dfe-3cac-4da7-846a-50f0ad301fef",
   "metadata": {},
   "outputs": [],
   "source": [
    "palabras_odio.to_csv('docs/palabras_odio.csv')"
   ]
  },
  {
   "cell_type": "markdown",
   "id": "39dc22bf-bc52-4873-a188-e832b89ec8d3",
   "metadata": {},
   "source": [
    "# Prueba de modelos en Reddit"
   ]
  },
  {
   "cell_type": "code",
   "execution_count": 40,
   "id": "b0057dd8-75a8-4157-905b-2ff931b03dd2",
   "metadata": {
    "tags": []
   },
   "outputs": [],
   "source": [
    "df = pd.read_csv('docs/preprocessing_reddit_data.csv')\n",
    "\n",
    "if verbose_dataset:\n",
    "    print(df)"
   ]
  },
  {
   "cell_type": "code",
   "execution_count": 41,
   "id": "4b95ee32-8e37-4643-954c-768cb8b00a47",
   "metadata": {},
   "outputs": [],
   "source": [
    "df_reddit_original = pd.read_csv('docs/preprocessing_reddit_data.csv')"
   ]
  },
  {
   "cell_type": "code",
   "execution_count": 42,
   "id": "a280243f-b01b-4f5e-a5ab-b23a54d47ab8",
   "metadata": {},
   "outputs": [],
   "source": [
    "reddit_corpus = preprocess_corpus(df['body'].astype('str'))"
   ]
  },
  {
   "cell_type": "markdown",
   "id": "16060544-22e8-4207-88a6-09568f97d92e",
   "metadata": {},
   "source": [
    "En base a los modelos previamente entrenados, usamos la siguiente función para detectar los comentarios de Reddit."
   ]
  },
  {
   "cell_type": "code",
   "execution_count": 43,
   "id": "09f6605d-ac66-4b54-87f6-67884aa38c71",
   "metadata": {},
   "outputs": [],
   "source": [
    "def predict_n_report_on_reddit_comments(cv_model_pairs):\n",
    "    table = PrettyTable()\n",
    "    thresholds = np.linspace(0.5, 0.9, 5)\n",
    "    \n",
    "    table.field_names = ['Modelo', \n",
    "                         'Dataset', \n",
    "                         *['# pred. umb. {}'.format(i) for i in thresholds]]\n",
    "    \n",
    "    for pair in cv_model_pairs:\n",
    "        cv = pair[0][0]\n",
    "        dataset_name = pair[0][1]\n",
    "        model = pair[1][0]\n",
    "        model_name = pair[1][1]\n",
    "        predicted_by_thresh = []\n",
    "        \n",
    "        for thresh in thresholds:\n",
    "            reddit_adapted = cv.transform(reddit_corpus)\n",
    "            reddit_hs_proba = model.predict_proba(reddit_adapted)[:,1]\n",
    "            hate_mask = reddit_hs_proba >= thresh\n",
    "            predicted_by_thresh.append(np.shape(df_reddit_original[hate_mask])[0])\n",
    "        \n",
    "        table.add_row([model_name, dataset_name, *predicted_by_thresh])\n",
    "        \n",
    "    return table"
   ]
  },
  {
   "cell_type": "code",
   "execution_count": 44,
   "id": "bc2a214b-eb5f-406e-8b2d-08671e5efc64",
   "metadata": {
    "tags": []
   },
   "outputs": [],
   "source": [
    "def predict_n_save_on_reddit_comments(cv, model, threshold, output_file_name):\n",
    "    reddit_adapted = cv.transform(reddit_corpus)\n",
    "    reddit_hs_proba = model.predict_proba(reddit_adapted)[:,1]\n",
    "    hate_mask = reddit_hs_proba >= threshold\n",
    "    print('Detectados {} comentarios de un total de {}'.format(np.shape(df_reddit_original[hate_mask])[0], np.shape(df_reddit_original)[0]))\n",
    "    df_reddit_original[hate_mask].to_csv('docs/{}_hate.csv'.format(output_file_name))\n",
    "    df_reddit_original[~hate_mask].to_csv('docs/{}_non_hate.csv'.format(output_file_name))"
   ]
  },
  {
   "cell_type": "markdown",
   "id": "29246b92-01b5-4eb9-b3d9-8bebeb31da64",
   "metadata": {},
   "source": [
    "## Vemos la cantidad de predicciones en todos los modelos"
   ]
  },
  {
   "cell_type": "code",
   "execution_count": 45,
   "id": "04bf982d-82a1-4f09-94d5-e95d2f7f68a7",
   "metadata": {},
   "outputs": [
    {
     "data": {
      "text/html": [
       "<table>\n",
       "    <thead>\n",
       "        <tr>\n",
       "            <th>Modelo</th>\n",
       "            <th>Dataset</th>\n",
       "            <th># pred. umb. 0.5</th>\n",
       "            <th># pred. umb. 0.6</th>\n",
       "            <th># pred. umb. 0.7</th>\n",
       "            <th># pred. umb. 0.8</th>\n",
       "            <th># pred. umb. 0.9</th>\n",
       "        </tr>\n",
       "    </thead>\n",
       "    <tbody>\n",
       "        <tr>\n",
       "            <td>Regresión logística</td>\n",
       "            <td>HatEval</td>\n",
       "            <td>5344</td>\n",
       "            <td>3151</td>\n",
       "            <td>1710</td>\n",
       "            <td>790</td>\n",
       "            <td>227</td>\n",
       "        </tr>\n",
       "        <tr>\n",
       "            <td>Naive Bayes</td>\n",
       "            <td>HatEval</td>\n",
       "            <td>10420</td>\n",
       "            <td>6951</td>\n",
       "            <td>4312</td>\n",
       "            <td>2370</td>\n",
       "            <td>948</td>\n",
       "        </tr>\n",
       "        <tr>\n",
       "            <td>Random forest</td>\n",
       "            <td>HatEval</td>\n",
       "            <td>1336</td>\n",
       "            <td>338</td>\n",
       "            <td>52</td>\n",
       "            <td>3</td>\n",
       "            <td>0</td>\n",
       "        </tr>\n",
       "        <tr>\n",
       "            <td>Regresión logística</td>\n",
       "            <td>DETOXIS</td>\n",
       "            <td>19</td>\n",
       "            <td>7</td>\n",
       "            <td>2</td>\n",
       "            <td>0</td>\n",
       "            <td>0</td>\n",
       "        </tr>\n",
       "        <tr>\n",
       "            <td>Naive Bayes</td>\n",
       "            <td>DETOXIS</td>\n",
       "            <td>3695</td>\n",
       "            <td>2393</td>\n",
       "            <td>1618</td>\n",
       "            <td>1003</td>\n",
       "            <td>512</td>\n",
       "        </tr>\n",
       "        <tr>\n",
       "            <td>Random forest</td>\n",
       "            <td>DETOXIS</td>\n",
       "            <td>0</td>\n",
       "            <td>0</td>\n",
       "            <td>0</td>\n",
       "            <td>0</td>\n",
       "            <td>0</td>\n",
       "        </tr>\n",
       "        <tr>\n",
       "            <td>Regresión logística</td>\n",
       "            <td>MeOffendMex</td>\n",
       "            <td>1197</td>\n",
       "            <td>679</td>\n",
       "            <td>367</td>\n",
       "            <td>166</td>\n",
       "            <td>50</td>\n",
       "        </tr>\n",
       "        <tr>\n",
       "            <td>Naive Bayes</td>\n",
       "            <td>MeOffendMex</td>\n",
       "            <td>7977</td>\n",
       "            <td>5247</td>\n",
       "            <td>3502</td>\n",
       "            <td>2075</td>\n",
       "            <td>1080</td>\n",
       "        </tr>\n",
       "        <tr>\n",
       "            <td>Random forest</td>\n",
       "            <td>MeOffendMex</td>\n",
       "            <td>455</td>\n",
       "            <td>167</td>\n",
       "            <td>72</td>\n",
       "            <td>14</td>\n",
       "            <td>0</td>\n",
       "        </tr>\n",
       "    </tbody>\n",
       "</table>"
      ],
      "text/plain": [
       "+---------------------+-------------+------------------+------------------+------------------+------------------+------------------+\n",
       "|        Modelo       |   Dataset   | # pred. umb. 0.5 | # pred. umb. 0.6 | # pred. umb. 0.7 | # pred. umb. 0.8 | # pred. umb. 0.9 |\n",
       "+---------------------+-------------+------------------+------------------+------------------+------------------+------------------+\n",
       "| Regresión logística |   HatEval   |       5344       |       3151       |       1710       |       790        |       227        |\n",
       "|     Naive Bayes     |   HatEval   |      10420       |       6951       |       4312       |       2370       |       948        |\n",
       "|    Random forest    |   HatEval   |       1336       |       338        |        52        |        3         |        0         |\n",
       "| Regresión logística |   DETOXIS   |        19        |        7         |        2         |        0         |        0         |\n",
       "|     Naive Bayes     |   DETOXIS   |       3695       |       2393       |       1618       |       1003       |       512        |\n",
       "|    Random forest    |   DETOXIS   |        0         |        0         |        0         |        0         |        0         |\n",
       "| Regresión logística | MeOffendMex |       1197       |       679        |       367        |       166        |        50        |\n",
       "|     Naive Bayes     | MeOffendMex |       7977       |       5247       |       3502       |       2075       |       1080       |\n",
       "|    Random forest    | MeOffendMex |       455        |       167        |        72        |        14        |        0         |\n",
       "+---------------------+-------------+------------------+------------------+------------------+------------------+------------------+"
      ]
     },
     "execution_count": 45,
     "metadata": {},
     "output_type": "execute_result"
    }
   ],
   "source": [
    "cv_dataset_pairs = [(cv_hateval, 'HatEval'), (cv_detoxis, 'DETOXIS'), (cv_meoffendmex, 'MeOffendMex')]\n",
    "\n",
    "cv_model_pairs = [\n",
    "        [cv_dataset_pairs[0], (lg_hateval, 'Regresión logística')],\n",
    "        [cv_dataset_pairs[0], (nb_hateval, 'Naive Bayes')],\n",
    "        [cv_dataset_pairs[0], (rf_hateval, 'Random forest')],\n",
    "        [cv_dataset_pairs[1], (lg_detoxis, 'Regresión logística')],\n",
    "        [cv_dataset_pairs[1], (nb_detoxis, 'Naive Bayes')],\n",
    "        [cv_dataset_pairs[1], (rf_detoxis, 'Random forest')],\n",
    "        [cv_dataset_pairs[2], (lg_meoffendmex, 'Regresión logística')],\n",
    "        [cv_dataset_pairs[2], (nb_meoffendmex, 'Naive Bayes')],\n",
    "        [cv_dataset_pairs[2], (rf_meoffendmex, 'Random forest')],\n",
    "       ]\n",
    "\n",
    "predict_n_report_on_reddit_comments(cv_model_pairs)"
   ]
  },
  {
   "cell_type": "markdown",
   "id": "09a08e29-a4d5-4f4d-81ac-8b420ab8f7e4",
   "metadata": {},
   "source": [
    "## Guardamos algunas predicciones para visualizar los CSV generados"
   ]
  },
  {
   "cell_type": "markdown",
   "id": "e0d310b9-ed7d-47b8-a360-9dd16dbdaee4",
   "metadata": {},
   "source": [
    "### A partir de modelos entrenados con HatEval"
   ]
  },
  {
   "cell_type": "code",
   "execution_count": 46,
   "id": "03be00cb-40f3-46f0-8cc5-7f25b3d5ce7c",
   "metadata": {},
   "outputs": [
    {
     "name": "stdout",
     "output_type": "stream",
     "text": [
      "Detectados 790 comentarios de un total de 27791\n"
     ]
    }
   ],
   "source": [
    "predict_n_save_on_reddit_comments(cv_hateval, lg_hateval, 0.8, 'test/test_reddit_hateval_lg_hate_comments')"
   ]
  },
  {
   "cell_type": "code",
   "execution_count": 47,
   "id": "b76f2ce6-8cd6-4c7b-9c01-a39c4b519589",
   "metadata": {},
   "outputs": [
    {
     "name": "stdout",
     "output_type": "stream",
     "text": [
      "Detectados 2370 comentarios de un total de 27791\n"
     ]
    }
   ],
   "source": [
    "predict_n_save_on_reddit_comments(cv_hateval, nb_hateval, 0.8, 'test/test_reddit_hateval_nb_hate_comments')"
   ]
  },
  {
   "cell_type": "code",
   "execution_count": 48,
   "id": "d61103c2-3cb6-48be-bd94-5f502c2b23a0",
   "metadata": {},
   "outputs": [
    {
     "name": "stdout",
     "output_type": "stream",
     "text": [
      "Detectados 52 comentarios de un total de 27791\n"
     ]
    }
   ],
   "source": [
    "predict_n_save_on_reddit_comments(cv_hateval, rf_hateval, 0.7, 'test/test_reddit_hateval_rf_hate_comments')"
   ]
  },
  {
   "cell_type": "markdown",
   "id": "db3f246c-681b-4f48-99f5-23a23503c779",
   "metadata": {},
   "source": [
    "### A partir de modelos entrenados con Detoxis"
   ]
  },
  {
   "cell_type": "code",
   "execution_count": 49,
   "id": "6c22b737-5876-4d7d-b1d3-324d204a76b5",
   "metadata": {},
   "outputs": [
    {
     "name": "stdout",
     "output_type": "stream",
     "text": [
      "Detectados 19 comentarios de un total de 27791\n"
     ]
    }
   ],
   "source": [
    "predict_n_save_on_reddit_comments(cv_detoxis, lg_detoxis, 0.5, 'test/test_reddit_detoxis_lg_hate_comments')"
   ]
  },
  {
   "cell_type": "code",
   "execution_count": 50,
   "id": "ef5bc416-d805-4e9d-b876-456ea4692279",
   "metadata": {},
   "outputs": [
    {
     "name": "stdout",
     "output_type": "stream",
     "text": [
      "Detectados 1003 comentarios de un total de 27791\n"
     ]
    }
   ],
   "source": [
    "predict_n_save_on_reddit_comments(cv_detoxis, nb_detoxis, 0.8, 'test/test_reddit_detoxis_nb_hate_comments')"
   ]
  },
  {
   "cell_type": "code",
   "execution_count": 51,
   "id": "1c0bfb05-ffa9-4e20-b635-a312c69f67eb",
   "metadata": {},
   "outputs": [
    {
     "name": "stdout",
     "output_type": "stream",
     "text": [
      "Detectados 0 comentarios de un total de 27791\n"
     ]
    }
   ],
   "source": [
    "predict_n_save_on_reddit_comments(cv_detoxis, rf_detoxis, 0.5, 'test/test_reddit_detoxis_rf_hate_comments')"
   ]
  },
  {
   "cell_type": "markdown",
   "id": "1db1538c-99ad-45aa-981b-6df3eb65b2ef",
   "metadata": {},
   "source": [
    "### A partir de modelos entrenados con MeOffendMex"
   ]
  },
  {
   "cell_type": "code",
   "execution_count": 52,
   "id": "a04f2ed2-29d9-4920-8246-5ec31b1f0482",
   "metadata": {},
   "outputs": [
    {
     "name": "stdout",
     "output_type": "stream",
     "text": [
      "Detectados 166 comentarios de un total de 27791\n"
     ]
    }
   ],
   "source": [
    "predict_n_save_on_reddit_comments(cv_meoffendmex, lg_meoffendmex, 0.8, 'test/test_reddit_meoffendmex_lg_hate_comments')"
   ]
  },
  {
   "cell_type": "code",
   "execution_count": 53,
   "id": "3e1a24c9-bfa2-4923-ab64-c8adffc35ff5",
   "metadata": {},
   "outputs": [
    {
     "name": "stdout",
     "output_type": "stream",
     "text": [
      "Detectados 2075 comentarios de un total de 27791\n"
     ]
    }
   ],
   "source": [
    "predict_n_save_on_reddit_comments(cv_meoffendmex, nb_meoffendmex, 0.8, 'test/test_reddit_meoffendmex_nb_hate_comments')"
   ]
  },
  {
   "cell_type": "code",
   "execution_count": 54,
   "id": "22c7121a-c6fb-4209-b9ac-4d19f885c848",
   "metadata": {},
   "outputs": [
    {
     "name": "stdout",
     "output_type": "stream",
     "text": [
      "Detectados 455 comentarios de un total de 27791\n"
     ]
    }
   ],
   "source": [
    "predict_n_save_on_reddit_comments(cv_meoffendmex, rf_meoffendmex, 0.5, 'test/test_reddit_meoffendmex_rf_hate_comments')"
   ]
  },
  {
   "cell_type": "markdown",
   "id": "7183f83f-5bcb-4449-b77e-139f0c27603c",
   "metadata": {},
   "source": [
    "# Mejoras a realizar\n",
    "\n",
    "En este notebook se utilizaron modelos en su versión más básica. Como trabajos futuros, quedan mejores pendientes, que incluyen realizar una mejora iterativa de cada uno de los modelos empleados, incluir otros, realizar optimización de híper-parámetros, y tomar distintas etiquetas o información (por ejemplo, usar una etiqueta alternativa en DETOXIS), entre otras."
   ]
  },
  {
   "cell_type": "markdown",
   "id": "5a254f42-8609-48f9-a4f7-6c3aa643089c",
   "metadata": {},
   "source": [
    "FIN"
   ]
  }
 ],
 "metadata": {
  "kernelspec": {
   "display_name": "Python 3",
   "language": "python",
   "name": "python3"
  },
  "language_info": {
   "codemirror_mode": {
    "name": "ipython",
    "version": 3
   },
   "file_extension": ".py",
   "mimetype": "text/x-python",
   "name": "python",
   "nbconvert_exporter": "python",
   "pygments_lexer": "ipython3",
   "version": "3.8.8"
  }
 },
 "nbformat": 4,
 "nbformat_minor": 5
}
