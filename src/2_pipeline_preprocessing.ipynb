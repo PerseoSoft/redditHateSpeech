{
 "cells": [
  {
   "cell_type": "markdown",
   "metadata": {},
   "source": [
    "# Pre procesamiento\n",
    "\n",
    "En este *notebook* se aplicará el pre-procesamiento a cada comentario de reddit. El resultado se guardará en un archivo que es similar al archivo origen, con la única diferencia que el comentario estará conformado por *strings* procesados.\n",
    "\n",
    "Se realizan los siguientes pre-procesamientos:\n",
    "1. Eliminación de emails, *quotes*, *emojis* y url en cada comentario\n",
    "2. Eliminación de *stop words*\n",
    "3. Eliminación de palabras no alfanuméricas\n",
    "4. Conversión de los lemas a minúscula\n",
    "5. Se agrega bigramas y trigramas\n",
    "6. Lematización utilizando Spacy\n",
    "7. Solo se consideran palabras cuyo *part-of-speech* son un nombre propio, un sustantivo o un pronombre. [Ver *Universal POS tags*](https://universaldependencies.org/docs/u/pos/)\n",
    "\n",
    "### Fuente\n",
    "\n",
    "- [Twitter Topic Modeling](https://towardsdatascience.com/twitter-topic-modeling-e0e3315b12e2)\n"
   ]
  },
  {
   "cell_type": "code",
   "execution_count": 1,
   "metadata": {
    "collapsed": false,
    "jupyter": {
     "outputs_hidden": false
    },
    "pycharm": {
     "name": "#%%\n"
    }
   },
   "outputs": [],
   "source": [
    "import pickle\n",
    "import warnings\n",
    "\n",
    "import pandas as pd\n",
    "import spacy, gensim\n",
    "from spacy.tokenizer import Tokenizer\n",
    "\n",
    "from preprocessing_utils import give_emoji_free_text, url_free_text, \\\n",
    "email_free_text, quotes_free_text, get_lemmas, tokenize\n",
    "\n",
    "warnings.filterwarnings(\"ignore\", category=DeprecationWarning)\n",
    "\n",
    "%matplotlib inline\n",
    "\n",
    "TEXT_FILE_READ = 'docs/reddit_data.csv'  # Text to be processed\n",
    "TEXT_SAVE_FILE = 'docs/preprocessing_reddit_data.csv'\n",
    "FILENAME_PICKLE = \"docs/tmpreddit.pickle\""
   ]
  },
  {
   "cell_type": "code",
   "execution_count": 2,
   "metadata": {
    "pycharm": {
     "name": "#%%\n"
    }
   },
   "outputs": [],
   "source": [
    "nlp = spacy.load('es_core_news_lg', disable=['ner', 'parser']) # disabling Named Entity Recognition for speed\n",
    "tmpreddit = pd.read_csv(TEXT_FILE_READ)"
   ]
  },
  {
   "cell_type": "code",
   "execution_count": 3,
   "metadata": {},
   "outputs": [],
   "source": [
    "# Apply the function above and get tweets free of emoji's\n",
    "call_emoji_free = lambda x: give_emoji_free_text(x)\n",
    "\n",
    "# Apply `call_emoji_free` which calls the function to remove all emoji's\n",
    "tmpreddit['emails_free'] = tmpreddit['body'].apply(email_free_text)\n",
    "\n",
    "#Create a new column with url free tweets\n",
    "tmpreddit['quotes_free'] = tmpreddit['emails_free'].apply(quotes_free_text)\n",
    "\n",
    "# Apply `call_emoji_free` which calls the function to remove all emoji's\n",
    "tmpreddit['emoji_free'] = tmpreddit['quotes_free'].apply(call_emoji_free)\n",
    "\n",
    "#Create a new column with url free tweets\n",
    "tmpreddit['url_free'] = tmpreddit['emoji_free'].apply(url_free_text)\n",
    "\n",
    "#print(tmpreddit[:1])"
   ]
  },
  {
   "cell_type": "code",
   "execution_count": 4,
   "metadata": {
    "collapsed": false,
    "jupyter": {
     "outputs_hidden": false
    },
    "pycharm": {
     "name": "#%%\n"
    }
   },
   "outputs": [],
   "source": [
    "# Tokenizer\n",
    "tokenizer = Tokenizer(nlp.vocab)\n",
    "\n",
    "tokens = []\n",
    "\n",
    "for doc in tokenizer.pipe(tmpreddit['url_free'], batch_size=500):\n",
    "    doc_tokens = []\n",
    "    for token in doc:\n",
    "        if token.text.lower() not in nlp.Defaults.stop_words:\n",
    "            doc_tokens.append(token.text.lower())\n",
    "    tokens.append(doc_tokens)\n",
    "\n",
    "# Makes tokens column\n",
    "tmpreddit['tokens'] = tokens\n"
   ]
  },
  {
   "cell_type": "code",
   "execution_count": 5,
   "metadata": {
    "collapsed": false,
    "jupyter": {
     "outputs_hidden": false
    },
    "pycharm": {
     "name": "#%%\n"
    }
   },
   "outputs": [],
   "source": [
    "# Build the bigram and trigram model\n",
    "bigram = gensim.models.Phrases(tmpreddit['tokens'], min_count=10, threshold=100)\n",
    "trigram = gensim.models.Phrases(bigram[tmpreddit['tokens']], threshold=100)\n",
    "\n",
    "# Faster way to get a sentence clubbed as a bigram\n",
    "bigram_mod = gensim.models.phrases.Phraser(bigram)\n",
    "trigram_mod = gensim.models.phrases.Phraser(trigram)\n"
   ]
  },
  {
   "cell_type": "code",
   "execution_count": 6,
   "metadata": {
    "collapsed": false,
    "jupyter": {
     "outputs_hidden": false
    },
    "pycharm": {
     "name": "#%%\n"
    }
   },
   "outputs": [
    {
     "name": "stdout",
     "output_type": "stream",
     "text": [
      "['probado', 'resultado', 'sellar', 'boca', 'inodoro', 'y', 'tirar', 'cadena..', 'desarrollo:', 'tenia', 'tapa', 'apoyaba', 'totalidad', 'circunferencia', 'boca', 'inodoro,', 'ponía', 'hoja', 'diario', 'tapando', 'boca,', 'cerraba', 'tapa', 'y', 'sentaba', 'tapa,', 'bordes', 'boca', 'sellaran', 'papel.', 'tirar', 'cadena,', 'aire', 'adentro', 'copa', 'salir', 'ningun', 'y,', 'entrada', 'agua,', 'genera', 'presion', 'esté', 'tapando', 'caño', 'agarra', 'viaje', 'nomas.', 'cambié', 'tapa', 'cubre', 'todo,', 'papel', 'diario,', 'pongo', 'almohadón,', 'resultado,', 'único', 'lavar', 'almohadón', 'despues..', 'gracias', 'venir', 'a', 'tedtalk.']\n"
     ]
    }
   ],
   "source": [
    "# See trigram example\n",
    "print(trigram_mod[bigram_mod[tmpreddit['tokens'][3]]])\n"
   ]
  },
  {
   "cell_type": "code",
   "execution_count": 7,
   "metadata": {
    "pycharm": {
     "name": "#%%\n"
    }
   },
   "outputs": [],
   "source": [
    "def make_bigrams(texts):\n",
    "    return [bigram_mod[doc] for doc in texts]\n",
    "\n",
    "def make_trigrams(texts):\n",
    "    return [trigram_mod[bigram_mod[doc]] for doc in texts]\n"
   ]
  },
  {
   "cell_type": "code",
   "execution_count": 8,
   "metadata": {
    "pycharm": {
     "name": "#%%\n"
    }
   },
   "outputs": [],
   "source": [
    "# Form Bigrams\n",
    "data_words_bigrams = make_bigrams(tmpreddit['tokens'])"
   ]
  },
  {
   "cell_type": "code",
   "execution_count": 9,
   "metadata": {},
   "outputs": [],
   "source": [
    "# Make tokens a string again\n",
    "tmpreddit['tokens_back_to_text'] = [' '.join(map(str, l)) for l in data_words_bigrams]\n",
    "\n",
    "tmpreddit['lemmas'] = tmpreddit['tokens_back_to_text'].apply(get_lemmas)\n"
   ]
  },
  {
   "cell_type": "code",
   "execution_count": 10,
   "metadata": {
    "collapsed": false,
    "jupyter": {
     "outputs_hidden": false
    },
    "pycharm": {
     "name": "#%%\n"
    }
   },
   "outputs": [],
   "source": [
    "# Make lemmas a string again\n",
    "tmpreddit['lemmas_back_to_text'] = [' '.join(map(str, l)) for l in tmpreddit['lemmas']]\n",
    "\n"
   ]
  },
  {
   "cell_type": "code",
   "execution_count": 11,
   "metadata": {
    "collapsed": false,
    "jupyter": {
     "outputs_hidden": false
    },
    "pycharm": {
     "name": "#%%\n"
    }
   },
   "outputs": [],
   "source": [
    "tmpreddit = tmpreddit.drop_duplicates(subset=['lemmas_back_to_text'], keep='first', inplace=False)"
   ]
  },
  {
   "cell_type": "code",
   "execution_count": 12,
   "metadata": {
    "collapsed": false,
    "jupyter": {
     "outputs_hidden": false
    },
    "pycharm": {
     "name": "#%%\n"
    }
   },
   "outputs": [],
   "source": [
    "# Apply tokenizer\n",
    "tmpreddit['lemma_tokens'] = tmpreddit['lemmas_back_to_text'].apply(tokenize)"
   ]
  },
  {
   "cell_type": "code",
   "execution_count": 13,
   "metadata": {
    "collapsed": false,
    "jupyter": {
     "outputs_hidden": false
    },
    "pycharm": {
     "name": "#%%\n"
    }
   },
   "outputs": [
    {
     "data": {
      "text/html": [
       "<div>\n",
       "<style scoped>\n",
       "    .dataframe tbody tr th:only-of-type {\n",
       "        vertical-align: middle;\n",
       "    }\n",
       "\n",
       "    .dataframe tbody tr th {\n",
       "        vertical-align: top;\n",
       "    }\n",
       "\n",
       "    .dataframe thead th {\n",
       "        text-align: right;\n",
       "    }\n",
       "</style>\n",
       "<table border=\"1\" class=\"dataframe\">\n",
       "  <thead>\n",
       "    <tr style=\"text-align: right;\">\n",
       "      <th></th>\n",
       "      <th>score</th>\n",
       "      <th>id</th>\n",
       "      <th>flair</th>\n",
       "      <th>comms_num</th>\n",
       "      <th>body</th>\n",
       "      <th>comment_parent_id</th>\n",
       "      <th>is_replay</th>\n",
       "      <th>lemma_tokens</th>\n",
       "      <th>body_preprocessing</th>\n",
       "      <th>body_no_lemmas</th>\n",
       "    </tr>\n",
       "  </thead>\n",
       "  <tbody>\n",
       "    <tr>\n",
       "      <th>0</th>\n",
       "      <td>1</td>\n",
       "      <td>hfw14mt</td>\n",
       "      <td>Discusion🧐</td>\n",
       "      <td>1</td>\n",
       "      <td>todo para decir que tapaste el baño. tira un b...</td>\n",
       "      <td>q44kw3</td>\n",
       "      <td>False</td>\n",
       "      <td>[tapastar, baño, tirar, balde, agua]</td>\n",
       "      <td>tapastar baño tirar balde agua</td>\n",
       "      <td>tapaste baño. tira balde agua pa</td>\n",
       "    </tr>\n",
       "    <tr>\n",
       "      <th>1</th>\n",
       "      <td>1</td>\n",
       "      <td>hfw41eh</td>\n",
       "      <td>Discusion🧐</td>\n",
       "      <td>0</td>\n",
       "      <td>sopapa primero master, si hay tapón te vas a t...</td>\n",
       "      <td>hfw14mt</td>\n",
       "      <td>True</td>\n",
       "      <td>[sopapa, master, tapón, teñir, medias]</td>\n",
       "      <td>sopapa master tapón teñir medias</td>\n",
       "      <td>sopapa master, tapón vas a teñir medias!</td>\n",
       "    </tr>\n",
       "    <tr>\n",
       "      <th>2</th>\n",
       "      <td>1</td>\n",
       "      <td>hfw1ao2</td>\n",
       "      <td>Discusion🧐</td>\n",
       "      <td>0</td>\n",
       "      <td>Usas la sopapa, o tiras agua caliente con un b...</td>\n",
       "      <td>q44kw3</td>\n",
       "      <td>False</td>\n",
       "      <td>[sopapa, tira, agua, caliente, balde]</td>\n",
       "      <td>sopapa tira agua caliente balde</td>\n",
       "      <td>sopapa, o tiras agua caliente balde</td>\n",
       "    </tr>\n",
       "    <tr>\n",
       "      <th>3</th>\n",
       "      <td>1</td>\n",
       "      <td>hfw3jof</td>\n",
       "      <td>Discusion🧐</td>\n",
       "      <td>2</td>\n",
       "      <td>Lo que he probado que siempre me dio resultado...</td>\n",
       "      <td>q44kw3</td>\n",
       "      <td>False</td>\n",
       "      <td>[probado, resultado, sellar, boca, inodoro, ti...</td>\n",
       "      <td>probado resultado sellar boca inodoro tirar ca...</td>\n",
       "      <td>probado resultado sellar boca inodoro y tirar ...</td>\n",
       "    </tr>\n",
       "    <tr>\n",
       "      <th>4</th>\n",
       "      <td>1</td>\n",
       "      <td>hfw6v4i</td>\n",
       "      <td>Discusion🧐</td>\n",
       "      <td>0</td>\n",
       "      <td>Estas cobrando por dar mantenimiento y no sabe...</td>\n",
       "      <td>q44kw3</td>\n",
       "      <td>False</td>\n",
       "      <td>[cobrar, mantenimiento, carajo, kjjjjjjjjj, vi...</td>\n",
       "      <td>cobrar mantenimiento carajo kjjjjjjjjj viviria...</td>\n",
       "      <td>cobrando mantenimiento y carajo? kjjjjjjjjj. v...</td>\n",
       "    </tr>\n",
       "    <tr>\n",
       "      <th>...</th>\n",
       "      <td>...</td>\n",
       "      <td>...</td>\n",
       "      <td>...</td>\n",
       "      <td>...</td>\n",
       "      <td>...</td>\n",
       "      <td>...</td>\n",
       "      <td>...</td>\n",
       "      <td>...</td>\n",
       "      <td>...</td>\n",
       "      <td>...</td>\n",
       "    </tr>\n",
       "    <tr>\n",
       "      <th>43488</th>\n",
       "      <td>1</td>\n",
       "      <td>hhcqvbr</td>\n",
       "      <td>Política🏛️</td>\n",
       "      <td>1</td>\n",
       "      <td>Alguno tiene la lista de todas las cosas que s...</td>\n",
       "      <td>qbru4q</td>\n",
       "      <td>False</td>\n",
       "      <td>[lista, comprometer, contradecir]</td>\n",
       "      <td>lista comprometer contradecir</td>\n",
       "      <td>lista comprometió; contradijo?</td>\n",
       "    </tr>\n",
       "    <tr>\n",
       "      <th>43495</th>\n",
       "      <td>7</td>\n",
       "      <td>hhcu8ne</td>\n",
       "      <td>IAMA🙋</td>\n",
       "      <td>0</td>\n",
       "      <td>Es bueno hacer reir a los demas ;) memes y hum...</td>\n",
       "      <td>hhcskq4</td>\n",
       "      <td>True</td>\n",
       "      <td>[reir, demas, mem, humor, curar, depresion]</td>\n",
       "      <td>reir demas mem humor curar depresion</td>\n",
       "      <td>reir a demas ;) memes y humor curan depresion.</td>\n",
       "    </tr>\n",
       "    <tr>\n",
       "      <th>43736</th>\n",
       "      <td>305</td>\n",
       "      <td>hhb96tt</td>\n",
       "      <td>Video📽️</td>\n",
       "      <td>1</td>\n",
       "      <td>PIBE. &amp;#x200B;. NO TENGO MUCHO TIEMPO. &amp;#x200B...</td>\n",
       "      <td>hhb5q47</td>\n",
       "      <td>True</td>\n",
       "      <td>[pibe, x200b, x200b, solucion, inflacion, x200b]</td>\n",
       "      <td>pibe x200b x200b solucion inflacion x200b</td>\n",
       "      <td>pibe. &amp;#x200b;. tiempo. &amp;#x200b;. solucion inf...</td>\n",
       "    </tr>\n",
       "    <tr>\n",
       "      <th>43932</th>\n",
       "      <td>1</td>\n",
       "      <td>hhbjbiu</td>\n",
       "      <td>Noticia📰</td>\n",
       "      <td>0</td>\n",
       "      <td>Flaco si estás viendo ésto:. &amp;#x200B;. DO IT!</td>\n",
       "      <td>qbn952</td>\n",
       "      <td>False</td>\n",
       "      <td>[flaco, ver, x200b, it]</td>\n",
       "      <td>flaco ver x200b it</td>\n",
       "      <td>flaco estás viendo ésto:. &amp;#x200b;. do it!</td>\n",
       "    </tr>\n",
       "    <tr>\n",
       "      <th>44078</th>\n",
       "      <td>1</td>\n",
       "      <td>hheds7c</td>\n",
       "      <td>Discusion🧐</td>\n",
       "      <td>0</td>\n",
       "      <td>comprate la carabina y anda a un local de comp...</td>\n",
       "      <td>qbm2xx</td>\n",
       "      <td>False</td>\n",
       "      <td>[compratir, carabina, andar, local, computacio...</td>\n",
       "      <td>compratir carabina andar local computacion x20...</td>\n",
       "      <td>comprate carabina y anda a local computacion. ...</td>\n",
       "    </tr>\n",
       "  </tbody>\n",
       "</table>\n",
       "<p>27782 rows × 10 columns</p>\n",
       "</div>"
      ],
      "text/plain": [
       "       score       id       flair  comms_num  \\\n",
       "0          1  hfw14mt  Discusion🧐          1   \n",
       "1          1  hfw41eh  Discusion🧐          0   \n",
       "2          1  hfw1ao2  Discusion🧐          0   \n",
       "3          1  hfw3jof  Discusion🧐          2   \n",
       "4          1  hfw6v4i  Discusion🧐          0   \n",
       "...      ...      ...         ...        ...   \n",
       "43488      1  hhcqvbr  Política🏛️          1   \n",
       "43495      7  hhcu8ne       IAMA🙋          0   \n",
       "43736    305  hhb96tt     Video📽️          1   \n",
       "43932      1  hhbjbiu    Noticia📰          0   \n",
       "44078      1  hheds7c  Discusion🧐          0   \n",
       "\n",
       "                                                    body comment_parent_id  \\\n",
       "0      todo para decir que tapaste el baño. tira un b...            q44kw3   \n",
       "1      sopapa primero master, si hay tapón te vas a t...           hfw14mt   \n",
       "2      Usas la sopapa, o tiras agua caliente con un b...            q44kw3   \n",
       "3      Lo que he probado que siempre me dio resultado...            q44kw3   \n",
       "4      Estas cobrando por dar mantenimiento y no sabe...            q44kw3   \n",
       "...                                                  ...               ...   \n",
       "43488  Alguno tiene la lista de todas las cosas que s...            qbru4q   \n",
       "43495  Es bueno hacer reir a los demas ;) memes y hum...           hhcskq4   \n",
       "43736  PIBE. &#x200B;. NO TENGO MUCHO TIEMPO. &#x200B...           hhb5q47   \n",
       "43932      Flaco si estás viendo ésto:. &#x200B;. DO IT!            qbn952   \n",
       "44078  comprate la carabina y anda a un local de comp...            qbm2xx   \n",
       "\n",
       "      is_replay                                       lemma_tokens  \\\n",
       "0         False               [tapastar, baño, tirar, balde, agua]   \n",
       "1          True             [sopapa, master, tapón, teñir, medias]   \n",
       "2         False              [sopapa, tira, agua, caliente, balde]   \n",
       "3         False  [probado, resultado, sellar, boca, inodoro, ti...   \n",
       "4         False  [cobrar, mantenimiento, carajo, kjjjjjjjjj, vi...   \n",
       "...         ...                                                ...   \n",
       "43488     False                  [lista, comprometer, contradecir]   \n",
       "43495      True        [reir, demas, mem, humor, curar, depresion]   \n",
       "43736      True   [pibe, x200b, x200b, solucion, inflacion, x200b]   \n",
       "43932     False                            [flaco, ver, x200b, it]   \n",
       "44078     False  [compratir, carabina, andar, local, computacio...   \n",
       "\n",
       "                                      body_preprocessing  \\\n",
       "0                         tapastar baño tirar balde agua   \n",
       "1                       sopapa master tapón teñir medias   \n",
       "2                        sopapa tira agua caliente balde   \n",
       "3      probado resultado sellar boca inodoro tirar ca...   \n",
       "4      cobrar mantenimiento carajo kjjjjjjjjj viviria...   \n",
       "...                                                  ...   \n",
       "43488                      lista comprometer contradecir   \n",
       "43495               reir demas mem humor curar depresion   \n",
       "43736          pibe x200b x200b solucion inflacion x200b   \n",
       "43932                                 flaco ver x200b it   \n",
       "44078  compratir carabina andar local computacion x20...   \n",
       "\n",
       "                                          body_no_lemmas  \n",
       "0                       tapaste baño. tira balde agua pa  \n",
       "1               sopapa master, tapón vas a teñir medias!  \n",
       "2                    sopapa, o tiras agua caliente balde  \n",
       "3      probado resultado sellar boca inodoro y tirar ...  \n",
       "4      cobrando mantenimiento y carajo? kjjjjjjjjj. v...  \n",
       "...                                                  ...  \n",
       "43488                     lista comprometió; contradijo?  \n",
       "43495     reir a demas ;) memes y humor curan depresion.  \n",
       "43736  pibe. &#x200b;. tiempo. &#x200b;. solucion inf...  \n",
       "43932         flaco estás viendo ésto:. &#x200b;. do it!  \n",
       "44078  comprate carabina y anda a local computacion. ...  \n",
       "\n",
       "[27782 rows x 10 columns]"
      ]
     },
     "execution_count": 13,
     "metadata": {},
     "output_type": "execute_result"
    }
   ],
   "source": [
    "reddit = tmpreddit\n",
    "reddit['body_preprocessing'] = tmpreddit['lemmas_back_to_text']\n",
    "reddit['body_no_lemmas'] = tmpreddit['tokens_back_to_text']\n",
    "reddit = reddit.loc[:, ~reddit.columns.str.contains('^Unnamed')]\n",
    "reddit.drop(['emails_free', 'quotes_free',\n",
    "             'emoji_free','url_free',\n",
    "             'tokens','tokens_back_to_text',\n",
    "             'lemmas','lemmas_back_to_text'], axis=1)"
   ]
  },
  {
   "cell_type": "code",
   "execution_count": 15,
   "metadata": {
    "collapsed": false,
    "jupyter": {
     "outputs_hidden": false
    },
    "pycharm": {
     "name": "#%%\n"
    }
   },
   "outputs": [],
   "source": [
    "reddit.to_csv(TEXT_SAVE_FILE, index=False)\n",
    "\n",
    "fileObj = open(FILENAME_PICKLE, 'wb')\n",
    "pickle.dump(tmpreddit, fileObj)\n",
    "fileObj.close()"
   ]
  },
  {
   "cell_type": "code",
   "execution_count": null,
   "metadata": {},
   "outputs": [],
   "source": []
  }
 ],
 "metadata": {
  "kernelspec": {
   "display_name": "Python 3",
   "language": "python",
   "name": "python3"
  },
  "language_info": {
   "codemirror_mode": {
    "name": "ipython",
    "version": 3
   },
   "file_extension": ".py",
   "mimetype": "text/x-python",
   "name": "python",
   "nbconvert_exporter": "python",
   "pygments_lexer": "ipython3",
   "version": "3.8.8"
  }
 },
 "nbformat": 4,
 "nbformat_minor": 4
}
