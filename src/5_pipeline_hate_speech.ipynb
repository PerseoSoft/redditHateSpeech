{
 "cells": [
  {
   "cell_type": "markdown",
   "id": "bee11d05",
   "metadata": {},
   "source": [
    "En este notebook, entrenamos modelos de predicción de discursos de odio en base a distintos datasets, para poder predecir su uso en reddit."
   ]
  },
  {
   "cell_type": "code",
   "execution_count": 1,
   "id": "665f19c1",
   "metadata": {
    "collapsed": false,
    "jupyter": {
     "outputs_hidden": false
    },
    "pycharm": {
     "name": "#%%\n"
    }
   },
   "outputs": [],
   "source": [
    "import pickle\n",
    "\n",
    "import pandas as pd\n",
    "import spacy\n",
    "import numpy as np\n",
    "\n",
    "from sklearn.metrics import ConfusionMatrixDisplay\n",
    "from sklearn.metrics import classification_report\n",
    "\n",
    "from preprocessing_utils import preprocess_corpus\n",
    "\n",
    "\n",
    "\n",
    "EMBEDDING = 'word2vec'  # valores posibles: 'lda', 'word2vec', 'fasttext'\n",
    "\n",
    "TEXT_FILE_READ = 'docs/reddit_data_{}.csv'.format(EMBEDDING)\n",
    "TEXT_FILE_GENERO = 'docs/analisis/genero.csv'\n",
    "TEXT_FILE_SOBERANIA = 'docs/analisis/soberania.csv'\n",
    "\n",
    "TEXT_SAVE_FILE = 'docs/reddit_data_hate_speech_' + EMBEDDING + '.csv'\n",
    "TEXT_SAVE_FILE_POS_HATE_SPEECH = 'docs/test/reddit_data_hate_speech_pos_' + EMBEDDING + '.csv'\n",
    "TEXT_SAVE_FILE_NEG_HATE_SPEECH = 'docs/test/reddit_data_hate_speech_neg_' + EMBEDDING + '.csv'\n",
    "\n",
    "nlp = spacy.load(\"es_core_news_lg\")"
   ]
  },
  {
   "cell_type": "code",
   "execution_count": 2,
   "id": "a6f2ad2f-6cc3-41c5-bbc2-5d7ce7104c0f",
   "metadata": {},
   "outputs": [
    {
     "name": "stderr",
     "output_type": "stream",
     "text": [
      "/home/juan/anaconda3/lib/python3.8/site-packages/sklearn/base.py:324: UserWarning: Trying to unpickle estimator CountVectorizer from version 0.24.1 when using version 1.0.1. This might lead to breaking code or invalid results. Use at your own risk. For more info please refer to:\n",
      "https://scikit-learn.org/stable/modules/model_persistence.html#security-maintainability-limitations\n",
      "  warnings.warn(\n",
      "/home/juan/anaconda3/lib/python3.8/site-packages/sklearn/base.py:324: UserWarning: Trying to unpickle estimator ComplementNB from version 0.24.1 when using version 1.0.1. This might lead to breaking code or invalid results. Use at your own risk. For more info please refer to:\n",
      "https://scikit-learn.org/stable/modules/model_persistence.html#security-maintainability-limitations\n",
      "  warnings.warn(\n"
     ]
    }
   ],
   "source": [
    "# cargamos un vectorizador y un modelo entrenado\n",
    "\n",
    "with open('docs/models/meoffendmex_vectorizer.pkl', 'rb') as f:\n",
    "    cv_meoffendmex = pickle.load(f)\n",
    "    \n",
    "with open('docs/models/meoffendmex_nb_model.pkl', 'rb') as f:\n",
    "    nb_meoffendmex = pickle.load(f)"
   ]
  },
  {
   "cell_type": "markdown",
   "id": "5c8b948e",
   "metadata": {},
   "source": [
    "# Prueba de modelos en Reddit con MeOffendMex"
   ]
  },
  {
   "cell_type": "code",
   "execution_count": 3,
   "id": "52868197",
   "metadata": {
    "collapsed": false,
    "jupyter": {
     "outputs_hidden": false
    },
    "pycharm": {
     "name": "#%%\n"
    }
   },
   "outputs": [],
   "source": [
    "df = pd.read_csv(TEXT_FILE_READ)"
   ]
  },
  {
   "cell_type": "code",
   "execution_count": 4,
   "id": "7aa4faa4",
   "metadata": {
    "collapsed": false,
    "jupyter": {
     "outputs_hidden": false
    },
    "pycharm": {
     "name": "#%%\n"
    }
   },
   "outputs": [],
   "source": [
    "reddit_corpus = preprocess_corpus(df['body'].astype('str'))\n",
    "reddit_adapted = cv_meoffendmex.transform(reddit_corpus)"
   ]
  },
  {
   "cell_type": "code",
   "execution_count": 5,
   "id": "f0b3aea7",
   "metadata": {
    "collapsed": false,
    "jupyter": {
     "outputs_hidden": false
    },
    "pycharm": {
     "name": "#%%\n"
    }
   },
   "outputs": [
    {
     "name": "stdout",
     "output_type": "stream",
     "text": [
      "[0.00569818 0.9816972  0.10259367 ... 0.47363154 0.02588299 0.41293737]\n"
     ]
    }
   ],
   "source": [
    "reddit_predictions = nb_meoffendmex.predict(reddit_adapted)\n",
    "reddit_hs_proba = nb_meoffendmex.predict_proba(reddit_adapted)[:,1]\n",
    "print(reddit_hs_proba)"
   ]
  },
  {
   "cell_type": "code",
   "execution_count": 6,
   "id": "91840ba2-a2de-4530-8f30-c82916083b7a",
   "metadata": {
    "collapsed": false,
    "jupyter": {
     "outputs_hidden": false
    },
    "pycharm": {
     "name": "#%%\n"
    }
   },
   "outputs": [
    {
     "name": "stdout",
     "output_type": "stream",
     "text": [
      "27791\n"
     ]
    }
   ],
   "source": [
    "target_predict_proba = 0.8\n",
    "hate_mask = reddit_hs_proba>=target_predict_proba\n",
    "non_hate_mask = reddit_hs_proba < target_predict_proba\n",
    "print(len(hate_mask))"
   ]
  },
  {
   "cell_type": "code",
   "execution_count": 7,
   "id": "d97c3b31-5b48-4358-a076-3aebb0877f73",
   "metadata": {
    "collapsed": false,
    "jupyter": {
     "outputs_hidden": false
    },
    "pycharm": {
     "name": "#%%\n"
    }
   },
   "outputs": [
    {
     "name": "stderr",
     "output_type": "stream",
     "text": [
      "<ipython-input-7-435dda9ac2e2>:8: SettingWithCopyWarning: \n",
      "A value is trying to be set on a copy of a slice from a DataFrame\n",
      "\n",
      "See the caveats in the documentation: https://pandas.pydata.org/pandas-docs/stable/user_guide/indexing.html#returning-a-view-versus-a-copy\n",
      "  df['hate_speech'][index] = is_hate_speech\n"
     ]
    }
   ],
   "source": [
    "df['hate_speech'] = df.apply(lambda row: '-' , axis = 1) \n",
    "\n",
    "for index,row in enumerate(df['body']):\n",
    "    if reddit_hs_proba[index] >= target_predict_proba :\n",
    "        is_hate_speech = 'si'\n",
    "    else:\n",
    "        is_hate_speech = 'no'\n",
    "    df['hate_speech'][index] = is_hate_speech"
   ]
  },
  {
   "cell_type": "code",
   "execution_count": 8,
   "id": "2041a0ea-b8d8-4f8d-84c4-76cff2a96192",
   "metadata": {
    "collapsed": false,
    "jupyter": {
     "outputs_hidden": false
    },
    "pycharm": {
     "name": "#%%\n"
    }
   },
   "outputs": [],
   "source": [
    "df.to_csv(TEXT_SAVE_FILE)"
   ]
  },
  {
   "cell_type": "code",
   "execution_count": 9,
   "id": "0108573d-3bd1-449e-b3c7-523b177c1d19",
   "metadata": {
    "collapsed": false,
    "jupyter": {
     "outputs_hidden": false
    },
    "pycharm": {
     "name": "#%%\n"
    }
   },
   "outputs": [],
   "source": [
    "df[hate_mask].to_csv(TEXT_SAVE_FILE_POS_HATE_SPEECH)"
   ]
  },
  {
   "cell_type": "code",
   "execution_count": 10,
   "id": "3a87778d-8647-4366-8426-4856e95ba8ed",
   "metadata": {
    "collapsed": false,
    "jupyter": {
     "outputs_hidden": false
    },
    "pycharm": {
     "name": "#%%\n"
    }
   },
   "outputs": [],
   "source": [
    "df[non_hate_mask].to_csv(TEXT_SAVE_FILE_NEG_HATE_SPEECH)"
   ]
  },
  {
   "cell_type": "markdown",
   "id": "664b7bdd-9476-4392-8d12-9da47042d829",
   "metadata": {},
   "source": [
    "# Predicción de los modelos en clústers de género y soberanía"
   ]
  },
  {
   "cell_type": "markdown",
   "id": "a314ec03-9596-4f0c-876e-e5d9d9ea9f34",
   "metadata": {},
   "source": [
    "### Cluster de genero"
   ]
  },
  {
   "cell_type": "code",
   "execution_count": 20,
   "id": "3d3cb59b-f980-4450-8cf3-08105d72ad4c",
   "metadata": {},
   "outputs": [],
   "source": [
    "df_gen = pd.read_csv(TEXT_FILE_GENERO)"
   ]
  },
  {
   "cell_type": "code",
   "execution_count": 21,
   "id": "2dce387e-0b58-482d-a757-405d6d09c0d7",
   "metadata": {},
   "outputs": [],
   "source": [
    "y_manual_gen = df_gen['hate_manual'] | df_gen['agresivo_manual'].values\n",
    "y_pred_gen = df_gen['hate_speech'].apply(lambda x: 1 if x == 'si' else 0).values"
   ]
  },
  {
   "cell_type": "code",
   "execution_count": 22,
   "id": "428836c3-86ac-4855-a773-ef824d9ca305",
   "metadata": {},
   "outputs": [
    {
     "name": "stdout",
     "output_type": "stream",
     "text": [
      "<sklearn.metrics._plot.confusion_matrix.ConfusionMatrixDisplay object at 0x7f561478f490>\n"
     ]
    },
    {
     "data": {
      "image/png": "[encoded data removed]",
      "text/plain": [
       "<Figure size 432x288 with 2 Axes>"
      ]
     },
     "metadata": {
      "needs_background": "light"
     },
     "output_type": "display_data"
    }
   ],
   "source": [
    "print(ConfusionMatrixDisplay.from_predictions(y_manual_gen, y_pred_gen))"
   ]
  },
  {
   "cell_type": "code",
   "execution_count": 23,
   "id": "0b157941-0831-4568-ad84-6d8cd154c1e3",
   "metadata": {},
   "outputs": [
    {
     "name": "stdout",
     "output_type": "stream",
     "text": [
      "              precision    recall  f1-score   support\n",
      "\n",
      "           0       0.84      0.89      0.86       100\n",
      "           1       0.48      0.37      0.42        27\n",
      "\n",
      "    accuracy                           0.78       127\n",
      "   macro avg       0.66      0.63      0.64       127\n",
      "weighted avg       0.76      0.78      0.77       127\n",
      "\n"
     ]
    }
   ],
   "source": [
    "print(classification_report(y_manual_gen, y_pred_gen))"
   ]
  },
  {
   "cell_type": "markdown",
   "id": "e13050f9-1940-41ec-afef-db0e080b1b86",
   "metadata": {},
   "source": [
    "### Cluster de soberania"
   ]
  },
  {
   "cell_type": "code",
   "execution_count": 31,
   "id": "e88a2bc5-8ee8-49b0-a74e-e90352c87155",
   "metadata": {},
   "outputs": [],
   "source": [
    "df_sn = pd.read_csv(TEXT_FILE_SOBERANIA)"
   ]
  },
  {
   "cell_type": "code",
   "execution_count": 32,
   "id": "14320cee-1628-4c30-8e63-c79f2e347293",
   "metadata": {},
   "outputs": [],
   "source": [
    "y_manual_sn = df_sn['hate_manual'] | df_sn['agresivo_manual'].values\n",
    "y_pred_sn = df_sn['hate_speech'].apply(lambda x: 1 if x == 'si' else 0).values"
   ]
  },
  {
   "cell_type": "code",
   "execution_count": 33,
   "id": "74d3b503-72ab-479f-9b33-7bd9cc0057d9",
   "metadata": {},
   "outputs": [
    {
     "name": "stdout",
     "output_type": "stream",
     "text": [
      "<sklearn.metrics._plot.confusion_matrix.ConfusionMatrixDisplay object at 0x7f56166ecc70>\n"
     ]
    },
    {
     "data": {
      "image/png": "[encoded data removed]",
      "text/plain": [
       "<Figure size 432x288 with 2 Axes>"
      ]
     },
     "metadata": {
      "needs_background": "light"
     },
     "output_type": "display_data"
    }
   ],
   "source": [
    "print(ConfusionMatrixDisplay.from_predictions(y_manual_sn, y_pred_sn))"
   ]
  },
  {
   "cell_type": "code",
   "execution_count": 34,
   "id": "e55cf53e-1df6-4b8a-8f6d-2eb11be1f352",
   "metadata": {},
   "outputs": [
    {
     "name": "stdout",
     "output_type": "stream",
     "text": [
      "              precision    recall  f1-score   support\n",
      "\n",
      "           0       0.78      0.95      0.86       477\n",
      "           1       0.32      0.09      0.14       136\n",
      "\n",
      "    accuracy                           0.76       613\n",
      "   macro avg       0.55      0.52      0.50       613\n",
      "weighted avg       0.68      0.76      0.70       613\n",
      "\n"
     ]
    }
   ],
   "source": [
    "print(classification_report(y_manual_sn, y_pred_sn))"
   ]
  },
  {
   "cell_type": "markdown",
   "id": "2cd9b0e1",
   "metadata": {},
   "source": [
    "FIN"
   ]
  }
 ],
 "metadata": {
  "kernelspec": {
   "display_name": "Python 3",
   "language": "python",
   "name": "python3"
  },
  "language_info": {
   "codemirror_mode": {
    "name": "ipython",
    "version": 3
   },
   "file_extension": ".py",
   "mimetype": "text/x-python",
   "name": "python",
   "nbconvert_exporter": "python",
   "pygments_lexer": "ipython3",
   "version": "3.8.8"
  }
 },
 "nbformat": 4,
 "nbformat_minor": 5
}
